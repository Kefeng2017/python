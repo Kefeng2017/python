{
 "cells": [
  {
   "cell_type": "markdown",
   "metadata": {},
   "source": [
    "# 基础模块的导入"
   ]
  },
  {
   "cell_type": "code",
   "execution_count": 1,
   "metadata": {},
   "outputs": [
    {
     "name": "stderr",
     "output_type": "stream",
     "text": [
      "enable example env will only read RomDataBu/csv\n"
     ]
    }
   ],
   "source": [
    "from __future__ import print_function\n",
    "# 使用本地的abu\n",
    "import os\n",
    "import sys\n",
    "# 使用insert 0即只使用外部的abupy，避免交叉使用了pip安装的abupy，导致的版本不一致问题\n",
    "sys.path.insert(0, os.path.abspath('../'))\n",
    "import abupy\n",
    "from abupy import six, xrange, range, reduce, map, filter, partial\n",
    "# 使用沙盒数据\n",
    "abupy.env.enable_example_env_ipython()"
   ]
  },
  {
   "cell_type": "markdown",
   "metadata": {},
   "source": [
    "# 量化语言-Python"
   ]
  },
  {
   "cell_type": "code",
   "execution_count": 2,
   "metadata": {},
   "outputs": [],
   "source": [
    "# 创建一组成交价格的字符串\n",
    "price_str=\"25.45,24.45,23.65,26.66,28.95,30.22\""
   ]
  },
  {
   "cell_type": "code",
   "execution_count": 3,
   "metadata": {},
   "outputs": [],
   "source": [
    "# 讲字符串拆分为列表形式\n",
    "price_list=price_str.split(',')"
   ]
  },
  {
   "cell_type": "code",
   "execution_count": 4,
   "metadata": {},
   "outputs": [
    {
     "data": {
      "text/plain": [
       "[25.45, 24.45, 23.65, 26.66, 28.95, 30.22]"
      ]
     },
     "execution_count": 4,
     "metadata": {},
     "output_type": "execute_result"
    }
   ],
   "source": [
    "# 把列表中的字符串变为数值类型\n",
    "# for i in price_list:\n",
    "#     i=float(i)\n",
    "for i in range(len(price_list)):\n",
    "    price_list[i] = float(price_list[i])\n",
    "price_list"
   ]
  },
  {
   "cell_type": "markdown",
   "metadata": {},
   "source": [
    "#### list的查询"
   ]
  },
  {
   "cell_type": "code",
   "execution_count": 5,
   "metadata": {},
   "outputs": [
    {
     "data": {
      "text/plain": [
       "25.45"
      ]
     },
     "execution_count": 5,
     "metadata": {},
     "output_type": "execute_result"
    }
   ],
   "source": [
    "price_list[0]"
   ]
  },
  {
   "cell_type": "code",
   "execution_count": 6,
   "metadata": {},
   "outputs": [
    {
     "name": "stdout",
     "output_type": "stream",
     "text": [
      "25.45,24.45,23.65,26.66,28.95,30.22,"
     ]
    }
   ],
   "source": [
    "for price in price_list:\n",
    "    print(price,end=',')"
   ]
  },
  {
   "cell_type": "code",
   "execution_count": 7,
   "metadata": {},
   "outputs": [
    {
     "data": {
      "text/plain": [
       "[30.22, 28.95, 26.66, 23.65, 24.45, 25.45]"
      ]
     },
     "execution_count": 7,
     "metadata": {},
     "output_type": "execute_result"
    }
   ],
   "source": [
    "price_list[::-1]"
   ]
  },
  {
   "cell_type": "code",
   "execution_count": 8,
   "metadata": {},
   "outputs": [
    {
     "data": {
      "text/plain": [
       "[25.45, 23.65, 28.95]"
      ]
     },
     "execution_count": 8,
     "metadata": {},
     "output_type": "execute_result"
    }
   ],
   "source": [
    "price_list[::2]"
   ]
  },
  {
   "cell_type": "markdown",
   "metadata": {},
   "source": [
    "#### list增加"
   ]
  },
  {
   "cell_type": "code",
   "execution_count": 9,
   "metadata": {},
   "outputs": [
    {
     "data": {
      "text/plain": [
       "[25.45, 24.45, 23.65, 26.66, 28.95, 30.22, 30.65]"
      ]
     },
     "execution_count": 9,
     "metadata": {},
     "output_type": "execute_result"
    }
   ],
   "source": [
    "price_list.append(30.65)\n",
    "price_list"
   ]
  },
  {
   "cell_type": "code",
   "execution_count": 10,
   "metadata": {},
   "outputs": [
    {
     "data": {
      "text/plain": [
       "[22.65, 25.45, 24.45, 23.65, 26.66, 28.95, 30.22, 30.65]"
      ]
     },
     "execution_count": 10,
     "metadata": {},
     "output_type": "execute_result"
    }
   ],
   "source": [
    "price_list.insert(0,22.65)\n",
    "price_list"
   ]
  },
  {
   "cell_type": "code",
   "execution_count": 11,
   "metadata": {},
   "outputs": [
    {
     "data": {
      "text/plain": [
       "[22.65, 25.45, 24.45, 23.65, 26.66, 28.95, 30.22, 30.65, 30.56, 31.22, 33.65]"
      ]
     },
     "execution_count": 11,
     "metadata": {},
     "output_type": "execute_result"
    }
   ],
   "source": [
    "price_list.extend([30.56,31.22,33.65])\n",
    "price_list"
   ]
  },
  {
   "cell_type": "code",
   "execution_count": 12,
   "metadata": {},
   "outputs": [
    {
     "data": {
      "text/plain": [
       "[11, 22, 33, '1', '2', '3', '4', '5', '6']"
      ]
     },
     "execution_count": 12,
     "metadata": {},
     "output_type": "execute_result"
    }
   ],
   "source": [
    "a=[11,22,33]\n",
    "a.extend('123456')\n",
    "a"
   ]
  },
  {
   "cell_type": "markdown",
   "metadata": {},
   "source": [
    "#### list删除"
   ]
  },
  {
   "cell_type": "code",
   "execution_count": 13,
   "metadata": {},
   "outputs": [
    {
     "data": {
      "text/plain": [
       "[22.65, 25.45, 24.45, 23.65, 26.66, 28.95, 30.22, 30.65, 30.56, 31.22]"
      ]
     },
     "execution_count": 13,
     "metadata": {},
     "output_type": "execute_result"
    }
   ],
   "source": [
    "price_list.pop()\n",
    "price_list"
   ]
  },
  {
   "cell_type": "code",
   "execution_count": 14,
   "metadata": {},
   "outputs": [],
   "source": [
    "price_list.remove(30.56)"
   ]
  },
  {
   "cell_type": "code",
   "execution_count": 15,
   "metadata": {},
   "outputs": [
    {
     "data": {
      "text/plain": [
       "[22.65, 25.45, 24.45, 23.65, 26.66, 28.95, 30.22, 30.65, 31.22]"
      ]
     },
     "execution_count": 15,
     "metadata": {},
     "output_type": "execute_result"
    }
   ],
   "source": [
    "price_list"
   ]
  },
  {
   "cell_type": "code",
   "execution_count": 16,
   "metadata": {},
   "outputs": [
    {
     "data": {
      "text/plain": [
       "[22.65, 25.45, 24.45, 23.65, 26.66, 28.95, 30.22, 31.22]"
      ]
     },
     "execution_count": 16,
     "metadata": {},
     "output_type": "execute_result"
    }
   ],
   "source": [
    "del price_list[-2]\n",
    "price_list"
   ]
  },
  {
   "cell_type": "markdown",
   "metadata": {},
   "source": [
    "#### list修改"
   ]
  },
  {
   "cell_type": "code",
   "execution_count": 17,
   "metadata": {},
   "outputs": [
    {
     "data": {
      "text/plain": [
       "[22.65, 25.45, 24.45, 23.65, 26.66, 28.95, 30.22, 31.05]"
      ]
     },
     "execution_count": 17,
     "metadata": {},
     "output_type": "execute_result"
    }
   ],
   "source": [
    "price_list[-1]=31.05\n",
    "price_list"
   ]
  },
  {
   "cell_type": "markdown",
   "metadata": {},
   "source": [
    "## 列表推到式 "
   ]
  },
  {
   "cell_type": "code",
   "execution_count": 18,
   "metadata": {},
   "outputs": [
    {
     "data": {
      "text/plain": [
       "[1, 2, 3, 4, 5, 6, 7, 8, 9, 10, 11, 12, 13, 14, 15, 16, 17, 18, 19, 20]"
      ]
     },
     "execution_count": 18,
     "metadata": {},
     "output_type": "execute_result"
    }
   ],
   "source": [
    "# 创建一个数据是1-20的列表\n",
    "mlist =[]\n",
    "for i in range(1,21):\n",
    "    mlist.append(i)\n",
    "mlist"
   ]
  },
  {
   "cell_type": "code",
   "execution_count": 19,
   "metadata": {},
   "outputs": [
    {
     "data": {
      "text/plain": [
       "[1, 2, 3, 4, 5, 6, 7, 8, 9, 10, 11, 12, 13, 14, 15, 16, 17, 18, 19, 20]"
      ]
     },
     "execution_count": 19,
     "metadata": {},
     "output_type": "execute_result"
    }
   ],
   "source": [
    "# 上诉代码用列表推导式来实现\n",
    "[i+1 for i in range(20)]"
   ]
  },
  {
   "cell_type": "code",
   "execution_count": 20,
   "metadata": {},
   "outputs": [
    {
     "data": {
      "text/plain": [
       "[(1, 2, 3), (4, 5, 6), (7, 8, 9), (10, 11, 12), (13, 14, 15), (16, 17, 18)]"
      ]
     },
     "execution_count": 20,
     "metadata": {},
     "output_type": "execute_result"
    }
   ],
   "source": [
    "# 希望生成[(1,2,3),(4,5,6),(7,8,9)...]\n",
    "[(i+1,i+2,i+3) for i in range(0,18,3)]"
   ]
  },
  {
   "cell_type": "code",
   "execution_count": 21,
   "metadata": {},
   "outputs": [
    {
     "data": {
      "text/plain": [
       "[(0, 0), (0, 1), (0, 2), (1, 0), (1, 1), (1, 2), (2, 0), (2, 1), (2, 2)]"
      ]
     },
     "execution_count": 21,
     "metadata": {},
     "output_type": "execute_result"
    }
   ],
   "source": [
    "[(x,y) for x in range(0,3) for y in range(0,3)]"
   ]
  },
  {
   "cell_type": "code",
   "execution_count": 22,
   "metadata": {},
   "outputs": [
    {
     "data": {
      "text/plain": [
       "[25.45, 24.45, 23.65, 26.66, 28.95, 30.22]"
      ]
     },
     "execution_count": 22,
     "metadata": {},
     "output_type": "execute_result"
    }
   ],
   "source": [
    "price_list = price_str.split(',')\n",
    "for i in range(len(price_list)):\n",
    "    price_list[i] = float(price_list[i])\n",
    "price_list"
   ]
  },
  {
   "cell_type": "markdown",
   "metadata": {},
   "source": [
    "#### 使用列表推导式生产成交价格的时间"
   ]
  },
  {
   "cell_type": "code",
   "execution_count": 23,
   "metadata": {},
   "outputs": [
    {
     "data": {
      "text/plain": [
       "['20190701', '20190702', '20190703', '20190704', '20190705', '20190706']"
      ]
     },
     "execution_count": 23,
     "metadata": {},
     "output_type": "execute_result"
    }
   ],
   "source": [
    "base_date=20190701\n",
    "date_list=[str(base_date+i) for i,_ in enumerate(price_list)]\n",
    "date_list"
   ]
  },
  {
   "cell_type": "code",
   "execution_count": 24,
   "metadata": {},
   "outputs": [
    {
     "data": {
      "text/plain": [
       "[('20190701', 25.45),\n",
       " ('20190702', 24.45),\n",
       " ('20190703', 23.65),\n",
       " ('20190704', 26.66),\n",
       " ('20190705', 28.95),\n",
       " ('20190706', 30.22)]"
      ]
     },
     "execution_count": 24,
     "metadata": {},
     "output_type": "execute_result"
    }
   ],
   "source": [
    "stock_list = [(date,price) for date,price in zip(date_list,price_list)]\n",
    "stock_list"
   ]
  },
  {
   "cell_type": "markdown",
   "metadata": {},
   "source": [
    "#### 使用命名元祖来构建数据"
   ]
  },
  {
   "cell_type": "code",
   "execution_count": 25,
   "metadata": {},
   "outputs": [
    {
     "data": {
      "text/plain": [
       "[stock(date='20190701', price=25.45),\n",
       " stock(date='20190702', price=24.45),\n",
       " stock(date='20190703', price=23.65),\n",
       " stock(date='20190704', price=26.66),\n",
       " stock(date='20190705', price=28.95),\n",
       " stock(date='20190706', price=30.22)]"
      ]
     },
     "execution_count": 25,
     "metadata": {},
     "output_type": "execute_result"
    }
   ],
   "source": [
    "from collections import namedtuple\n",
    "stock_tuple = namedtuple('stock',('date','price'))\n",
    "# help(stock_tuple)\n",
    "stock_nametuple_list=[stock_tuple(date,price) for date,price in zip(date_list,price_list)]\n",
    "stock_nametuple_list"
   ]
  },
  {
   "cell_type": "code",
   "execution_count": 26,
   "metadata": {},
   "outputs": [
    {
     "data": {
      "text/plain": [
       "'20190702'"
      ]
     },
     "execution_count": 26,
     "metadata": {},
     "output_type": "execute_result"
    }
   ],
   "source": [
    "stock_nametuple_list[1].date"
   ]
  },
  {
   "cell_type": "markdown",
   "metadata": {},
   "source": [
    "#### 上诉代码操作单个数据可以使用名称，但是寻找数据依旧还是使用索引，不是很方便\n",
    "#### 我们可以使用字典来重构数据"
   ]
  },
  {
   "cell_type": "code",
   "execution_count": 27,
   "metadata": {},
   "outputs": [
    {
     "data": {
      "text/plain": [
       "OrderedDict([('20190701', 25.45),\n",
       "             ('20190702', 24.45),\n",
       "             ('20190703', 23.65),\n",
       "             ('20190704', 26.66),\n",
       "             ('20190705', 28.95),\n",
       "             ('20190706', 30.22)])"
      ]
     },
     "execution_count": 27,
     "metadata": {},
     "output_type": "execute_result"
    }
   ],
   "source": [
    "from collections import OrderedDict\n",
    "stock_dict = OrderedDict((date,price) for date,price in zip(date_list,price_list))\n",
    "stock_dict"
   ]
  },
  {
   "cell_type": "code",
   "execution_count": 28,
   "metadata": {
    "scrolled": true
   },
   "outputs": [
    {
     "data": {
      "text/plain": [
       "OrderedDict([('20190701', stock(date='20190701', price=25.45)),\n",
       "             ('20190702', stock(date='20190702', price=24.45)),\n",
       "             ('20190703', stock(date='20190703', price=23.65)),\n",
       "             ('20190704', stock(date='20190704', price=26.66)),\n",
       "             ('20190705', stock(date='20190705', price=28.95)),\n",
       "             ('20190706', stock(date='20190706', price=30.22))])"
      ]
     },
     "execution_count": 28,
     "metadata": {},
     "output_type": "execute_result"
    }
   ],
   "source": [
    "stock_dict = OrderedDict((date,stock_tuple(date,price)) for date,price in zip(date_list,price_list))\n",
    "stock_dict"
   ]
  },
  {
   "cell_type": "code",
   "execution_count": 29,
   "metadata": {},
   "outputs": [
    {
     "data": {
      "text/plain": [
       "23.65"
      ]
     },
     "execution_count": 29,
     "metadata": {},
     "output_type": "execute_result"
    }
   ],
   "source": [
    "stock_dict['20190703'].price"
   ]
  },
  {
   "cell_type": "markdown",
   "metadata": {},
   "source": [
    "## 高阶函数 "
   ]
  },
  {
   "cell_type": "markdown",
   "metadata": {},
   "source": [
    "#### 1.map(fun,iterable)，fun(x) for x in iterable -> {fun(x1),fun(x2),fun(x3)......}"
   ]
  },
  {
   "cell_type": "code",
   "execution_count": 30,
   "metadata": {},
   "outputs": [
    {
     "data": {
      "text/plain": [
       "<generator object <genexpr> at 0x000000000E7D8408>"
      ]
     },
     "execution_count": 30,
     "metadata": {},
     "output_type": "execute_result"
    }
   ],
   "source": [
    "# ret=[i for i in range(10000000000000)]\n",
    "# ret\n",
    "ret=(i for i in range(10000000000000))\n",
    "ret"
   ]
  },
  {
   "cell_type": "code",
   "execution_count": 31,
   "metadata": {},
   "outputs": [
    {
     "data": {
      "text/plain": [
       "<map at 0xe7f9748>"
      ]
     },
     "execution_count": 31,
     "metadata": {},
     "output_type": "execute_result"
    }
   ],
   "source": [
    "ret=map(lambda item:str((item.price/50)*100)+\"%\",stock_dict.values())\n",
    "ret"
   ]
  },
  {
   "cell_type": "code",
   "execution_count": 32,
   "metadata": {},
   "outputs": [
    {
     "name": "stdout",
     "output_type": "stream",
     "text": [
      "50.9% 48.9% 47.3% 53.32% 57.9% 60.43999999999999% "
     ]
    }
   ],
   "source": [
    "for i in ret:\n",
    "    print(i,end=\" \")"
   ]
  },
  {
   "cell_type": "markdown",
   "metadata": {},
   "source": [
    "#### 2.filter函数，将原始数据安装指定的规则进行过滤\n",
    "将第二个参数（序列）中的每一个值带入第一个参数（函数），根据其返回值的真假决定是否过滤"
   ]
  },
  {
   "cell_type": "code",
   "execution_count": 33,
   "metadata": {},
   "outputs": [
    {
     "data": {
      "text/plain": [
       "<filter at 0xe7f9ba8>"
      ]
     },
     "execution_count": 33,
     "metadata": {},
     "output_type": "execute_result"
    }
   ],
   "source": [
    "ret = filter(lambda item:item.price>25,stock_dict.values())\n",
    "ret"
   ]
  },
  {
   "cell_type": "code",
   "execution_count": 34,
   "metadata": {},
   "outputs": [
    {
     "name": "stdout",
     "output_type": "stream",
     "text": [
      "stock(date='20190701', price=25.45)\n",
      "stock(date='20190704', price=26.66)\n",
      "stock(date='20190705', price=28.95)\n",
      "stock(date='20190706', price=30.22)\n"
     ]
    }
   ],
   "source": [
    "for i in ret:\n",
    "    print(i)"
   ]
  },
  {
   "cell_type": "code",
   "execution_count": 35,
   "metadata": {},
   "outputs": [
    {
     "name": "stdout",
     "output_type": "stream",
     "text": [
      "tom\n",
      "-1\n",
      "-2\n"
     ]
    }
   ],
   "source": [
    "# filter 不仅可以判断true和false还可以判断if能够判断的数据\n",
    "for i in filter(lambda x : x,['',None,\"tom\",\"-1\",-2]):\n",
    "    print(i)"
   ]
  },
  {
   "cell_type": "markdown",
   "metadata": {},
   "source": [
    "#### 3.reduce函数，累计计算"
   ]
  },
  {
   "cell_type": "code",
   "execution_count": 36,
   "metadata": {},
   "outputs": [
    {
     "data": {
      "text/plain": [
       "12153.96"
      ]
     },
     "execution_count": 36,
     "metadata": {},
     "output_type": "execute_result"
    }
   ],
   "source": [
    "ret = reduce(lambda x,y:x+x*y,[10000,0.05,0.06,0.05,0.04])\n",
    "ret"
   ]
  },
  {
   "cell_type": "markdown",
   "metadata": {},
   "source": [
    "reduce(lambda x,y:x+x*y,[10000,0.05,0.06,0.05,0.04])\n",
    "\n",
    "等价于\n",
    "\n",
    "x=10000\n",
    "\n",
    "for y in [0.05,0.06,0.05,0.04]:\n",
    "\n",
    "   x+=x*y\n"
   ]
  },
  {
   "cell_type": "code",
   "execution_count": 37,
   "metadata": {},
   "outputs": [
    {
     "data": {
      "text/plain": [
       "OrderedDict([('20190701', stock(date='20190701', price=25.45)),\n",
       "             ('20190702', stock(date='20190702', price=24.45)),\n",
       "             ('20190703', stock(date='20190703', price=23.65)),\n",
       "             ('20190704', stock(date='20190704', price=26.66)),\n",
       "             ('20190705', stock(date='20190705', price=28.95)),\n",
       "             ('20190706', stock(date='20190706', price=30.22))])"
      ]
     },
     "execution_count": 37,
     "metadata": {},
     "output_type": "execute_result"
    }
   ],
   "source": [
    "stock_dict"
   ]
  },
  {
   "cell_type": "markdown",
   "metadata": {},
   "source": [
    "#### 利用高阶函数，对上诉的数据增加一个涨跌幅字段"
   ]
  },
  {
   "cell_type": "code",
   "execution_count": 38,
   "metadata": {},
   "outputs": [
    {
     "data": {
      "text/plain": [
       "[(25.45, 24.45),\n",
       " (24.45, 23.65),\n",
       " (23.65, 26.66),\n",
       " (26.66, 28.95),\n",
       " (28.95, 30.22)]"
      ]
     },
     "execution_count": 38,
     "metadata": {},
     "output_type": "execute_result"
    }
   ],
   "source": [
    "pp_list=[(d1,d2) for d1,d2 in zip(price_list[:-1],price_list[1:])]\n",
    "pp_list"
   ]
  },
  {
   "cell_type": "code",
   "execution_count": 39,
   "metadata": {},
   "outputs": [
    {
     "data": {
      "text/plain": [
       "[0.0, -0.039, -0.033, 0.127, 0.086, 0.044]"
      ]
     },
     "execution_count": 39,
     "metadata": {},
     "output_type": "execute_result"
    }
   ],
   "source": [
    "change_map=map(lambda pp:reduce(lambda d1,d2:round((d2-d1)/d1,3) ,pp),pp_list)\n",
    "change_list=[0.0]\n",
    "for i in change_map:\n",
    "    change_list.append(i)\n",
    "change_list"
   ]
  },
  {
   "cell_type": "code",
   "execution_count": 40,
   "metadata": {},
   "outputs": [
    {
     "data": {
      "text/plain": [
       "OrderedDict([('20190701', stock(date='20190701', price=25.45, change=0.0)),\n",
       "             ('20190702', stock(date='20190702', price=24.45, change=-0.039)),\n",
       "             ('20190703', stock(date='20190703', price=23.65, change=-0.033)),\n",
       "             ('20190704', stock(date='20190704', price=26.66, change=0.127)),\n",
       "             ('20190705', stock(date='20190705', price=28.95, change=0.086)),\n",
       "             ('20190706', stock(date='20190706', price=30.22, change=0.044))])"
      ]
     },
     "execution_count": 40,
     "metadata": {},
     "output_type": "execute_result"
    }
   ],
   "source": [
    "stock_tuple = namedtuple('stock',('date','price','change'))\n",
    "stock_dict = OrderedDict((date,stock_tuple(date,price,change)) for date,price,change\n",
    "                         in zip(date_list,price_list,change_list))\n",
    "stock_dict"
   ]
  },
  {
   "cell_type": "markdown",
   "metadata": {},
   "source": [
    "#### 筛选数据"
   ]
  },
  {
   "cell_type": "code",
   "execution_count": 41,
   "metadata": {},
   "outputs": [
    {
     "data": {
      "text/plain": [
       "'成年'"
      ]
     },
     "execution_count": 41,
     "metadata": {},
     "output_type": "execute_result"
    }
   ],
   "source": [
    "#3目运算\n",
    "# ret = x if 条件 else y,条件成立ret=x否则ret=y\n",
    "age = 18\n",
    "ret = \"成年\" if age>=18 else \"未成年\"\n",
    "ret"
   ]
  },
  {
   "cell_type": "code",
   "execution_count": 42,
   "metadata": {},
   "outputs": [
    {
     "name": "stdout",
     "output_type": "stream",
     "text": [
      "stock(date='20190704', price=26.66, change=0.127)\n",
      "stock(date='20190705', price=28.95, change=0.086)\n",
      "stock(date='20190706', price=30.22, change=0.044)\n"
     ]
    }
   ],
   "source": [
    "# 利用filter函数，筛选上涨的交易日\n",
    "ret = filter(lambda x:x.change>0 ,stock_dict.values())\n",
    "for i in ret:\n",
    "    print(i)"
   ]
  },
  {
   "cell_type": "code",
   "execution_count": 43,
   "metadata": {},
   "outputs": [
    {
     "name": "stdout",
     "output_type": "stream",
     "text": [
      "stock(date='20190702', price=24.45, change=-0.039)\n",
      "stock(date='20190703', price=23.65, change=-0.033)\n"
     ]
    }
   ],
   "source": [
    "ret = filter(lambda x:x.change<0 ,stock_dict.values())\n",
    "for i in ret:\n",
    "    print(i)"
   ]
  },
  {
   "cell_type": "code",
   "execution_count": 44,
   "metadata": {},
   "outputs": [
    {
     "data": {
      "text/plain": [
       "0.257"
      ]
     },
     "execution_count": 44,
     "metadata": {},
     "output_type": "execute_result"
    }
   ],
   "source": [
    "# 上涨交易日的涨幅总和\n",
    "ret = filter(lambda x:x.change>0 ,stock_dict.values())\n",
    "sum = 0\n",
    "for i in ret:\n",
    "    sum+=i.change\n",
    "sum"
   ]
  },
  {
   "cell_type": "code",
   "execution_count": 45,
   "metadata": {},
   "outputs": [
    {
     "data": {
      "text/plain": [
       "-0.07200000000000001"
      ]
     },
     "execution_count": 45,
     "metadata": {},
     "output_type": "execute_result"
    }
   ],
   "source": [
    "ret = filter(lambda x:x.change<0 ,stock_dict.values())\n",
    "sum = 0\n",
    "for i in ret:\n",
    "    sum+=i.change\n",
    "sum"
   ]
  },
  {
   "cell_type": "markdown",
   "metadata": {},
   "source": [
    "##### 将上诉4个操作封装在一个函数中"
   ]
  },
  {
   "cell_type": "code",
   "execution_count": 46,
   "metadata": {},
   "outputs": [],
   "source": [
    "import copy\n",
    "def filter_stock(stock_dict,want_up=True,want_sum=False):\n",
    "    if want_up:\n",
    "        map = filter(lambda x:x.change>0 ,stock_dict.values())\n",
    "    else:\n",
    "        map = filter(lambda x:x.change<0 ,stock_dict.values())\n",
    "    if want_sum:\n",
    "        temp_map = copy.deepcopy(map)\n",
    "        sum = 0\n",
    "        for i in temp_map:\n",
    "            sum+=i.change\n",
    "        return (list(map),sum)\n",
    "    else:\n",
    "        return (list(map),)"
   ]
  },
  {
   "cell_type": "code",
   "execution_count": 50,
   "metadata": {},
   "outputs": [
    {
     "data": {
      "text/plain": [
       "([stock(date='20190702', price=24.45, change=-0.039),\n",
       "  stock(date='20190703', price=23.65, change=-0.033)],\n",
       " -0.07200000000000001)"
      ]
     },
     "execution_count": 50,
     "metadata": {},
     "output_type": "execute_result"
    }
   ],
   "source": [
    "filter_stock(stock_dict,False,True)"
   ]
  },
  {
   "cell_type": "markdown",
   "metadata": {},
   "source": [
    "### 偏函数"
   ]
  },
  {
   "cell_type": "code",
   "execution_count": 54,
   "metadata": {},
   "outputs": [
    {
     "name": "stdout",
     "output_type": "stream",
     "text": [
      "<class 'functools.partial'>\n"
     ]
    }
   ],
   "source": [
    "from functools import partial\n",
    "select_up=partial(filter_stock,want_up=True,want_sum=False)\n",
    "print(type(select_up))"
   ]
  },
  {
   "cell_type": "code",
   "execution_count": 55,
   "metadata": {},
   "outputs": [
    {
     "data": {
      "text/plain": [
       "([stock(date='20190704', price=26.66, change=0.127),\n",
       "  stock(date='20190705', price=28.95, change=0.086),\n",
       "  stock(date='20190706', price=30.22, change=0.044)],)"
      ]
     },
     "execution_count": 55,
     "metadata": {},
     "output_type": "execute_result"
    }
   ],
   "source": [
    "select_up(stock_dict)"
   ]
  },
  {
   "cell_type": "code",
   "execution_count": 57,
   "metadata": {},
   "outputs": [
    {
     "data": {
      "text/plain": [
       "5"
      ]
     },
     "execution_count": 57,
     "metadata": {},
     "output_type": "execute_result"
    }
   ],
   "source": [
    "# y=ax+b\n",
    "def f(x,a,b):\n",
    "    return a*x+b\n",
    "line=partial(f,a=1,b=0)\n",
    "line(5)"
   ]
  },
  {
   "cell_type": "markdown",
   "metadata": {},
   "source": [
    "# 面向对象"
   ]
  },
  {
   "cell_type": "code",
   "execution_count": 58,
   "metadata": {},
   "outputs": [
    {
     "name": "stdout",
     "output_type": "stream",
     "text": [
      "Person.name alice\n",
      "p.name alice\n"
     ]
    }
   ],
   "source": [
    "class  Person(object):\n",
    "    #属性和方法\n",
    "    name='alice'\n",
    "    \n",
    "print('Person.name',Person.name)\n",
    "p = Person()\n",
    "print('p.name',p.name)"
   ]
  },
  {
   "cell_type": "code",
   "execution_count": 59,
   "metadata": {},
   "outputs": [
    {
     "name": "stdout",
     "output_type": "stream",
     "text": [
      "Person.name alice\n",
      "p.name JhonSnow\n"
     ]
    }
   ],
   "source": [
    "p.name = \"JhonSnow\"\n",
    "print('Person.name',Person.name)\n",
    "print('p.name',p.name)"
   ]
  },
  {
   "cell_type": "code",
   "execution_count": 67,
   "metadata": {},
   "outputs": [
    {
     "data": {
      "text/plain": [
       "0"
      ]
     },
     "execution_count": 67,
     "metadata": {},
     "output_type": "execute_result"
    }
   ],
   "source": [
    "class Person(object):\n",
    "    def __init__(self,name):\n",
    "        self.name = name\n",
    "        self.age=0\n",
    "p = Person('alice')\n",
    "p.age"
   ]
  },
  {
   "cell_type": "code",
   "execution_count": 69,
   "metadata": {},
   "outputs": [
    {
     "ename": "AttributeError",
     "evalue": "'Person' object has no attribute '__age'",
     "output_type": "error",
     "traceback": [
      "\u001b[1;31m---------------------------------------------------------------------------\u001b[0m",
      "\u001b[1;31mAttributeError\u001b[0m                            Traceback (most recent call last)",
      "\u001b[1;32m<ipython-input-69-041bc9bc67f1>\u001b[0m in \u001b[0;36m<module>\u001b[1;34m\u001b[0m\n\u001b[0;32m      4\u001b[0m         \u001b[0mself\u001b[0m\u001b[1;33m.\u001b[0m\u001b[0m__age\u001b[0m\u001b[1;33m=\u001b[0m\u001b[1;36m0\u001b[0m\u001b[1;33m\u001b[0m\u001b[1;33m\u001b[0m\u001b[0m\n\u001b[0;32m      5\u001b[0m \u001b[0mp\u001b[0m \u001b[1;33m=\u001b[0m \u001b[0mPerson\u001b[0m\u001b[1;33m(\u001b[0m\u001b[1;34m'alice'\u001b[0m\u001b[1;33m)\u001b[0m\u001b[1;33m\u001b[0m\u001b[1;33m\u001b[0m\u001b[0m\n\u001b[1;32m----> 6\u001b[1;33m \u001b[0mp\u001b[0m\u001b[1;33m.\u001b[0m\u001b[0m__age\u001b[0m\u001b[1;33m\u001b[0m\u001b[1;33m\u001b[0m\u001b[0m\n\u001b[0m",
      "\u001b[1;31mAttributeError\u001b[0m: 'Person' object has no attribute '__age'"
     ]
    }
   ],
   "source": [
    "class Person(object):\n",
    "    def __init__(self,name):\n",
    "        self.name = name\n",
    "        self.__age=0\n",
    "p = Person('alice')\n",
    "p.__age"
   ]
  },
  {
   "cell_type": "code",
   "execution_count": 70,
   "metadata": {},
   "outputs": [
    {
     "data": {
      "text/plain": [
       "0"
      ]
     },
     "execution_count": 70,
     "metadata": {},
     "output_type": "execute_result"
    }
   ],
   "source": [
    "class Person(object):\n",
    "    def __init__(self,name):\n",
    "        self.name = name\n",
    "        self.__age=0\n",
    "p = Person('alice')\n",
    "p._Person__age"
   ]
  },
  {
   "cell_type": "markdown",
   "metadata": {},
   "source": [
    "##### Python中的私有化：在命名时，前面增加2个下划线。接下来在Python编译器编译程序时，他会对双下划线开头的所有标识符进行重命名，（\\_类名__xxxxx）。通过这样重命名的方式来实现私有的概念。"
   ]
  },
  {
   "cell_type": "code",
   "execution_count": 72,
   "metadata": {},
   "outputs": [
    {
     "data": {
      "text/plain": [
       "18"
      ]
     },
     "execution_count": 72,
     "metadata": {},
     "output_type": "execute_result"
    }
   ],
   "source": [
    "class Person(object):\n",
    "    def __init__(self,name):\n",
    "        self.name = name\n",
    "        self.__age=0\n",
    "    def get_age(self):\n",
    "        return self.__age\n",
    "    def set_age(self,age):\n",
    "        if age<=0:\n",
    "            self.__age = 18\n",
    "        else:\n",
    "            self.__age = age\n",
    "p = Person('alice')\n",
    "p.set_age(-2200)\n",
    "p.get_age()"
   ]
  },
  {
   "cell_type": "markdown",
   "metadata": {},
   "source": [
    "#### 使用property属性来修改上诉代码"
   ]
  },
  {
   "cell_type": "code",
   "execution_count": 73,
   "metadata": {},
   "outputs": [],
   "source": [
    "class Person(object):\n",
    "    def __init__(self,name):\n",
    "        self.name = name\n",
    "        self.__age=0\n",
    "    @property\n",
    "    def age(self):\n",
    "        return self.__age\n",
    "    @age.setter\n",
    "    def age(self,age):\n",
    "        if age<=0:\n",
    "            self.__age = 18\n",
    "        else:\n",
    "            self.__age = age"
   ]
  },
  {
   "cell_type": "code",
   "execution_count": 74,
   "metadata": {},
   "outputs": [],
   "source": [
    "p = Person('alice')"
   ]
  },
  {
   "cell_type": "code",
   "execution_count": 76,
   "metadata": {},
   "outputs": [],
   "source": [
    "p.age=-2200"
   ]
  },
  {
   "cell_type": "code",
   "execution_count": 77,
   "metadata": {},
   "outputs": [
    {
     "data": {
      "text/plain": [
       "18"
      ]
     },
     "execution_count": 77,
     "metadata": {},
     "output_type": "execute_result"
    }
   ],
   "source": [
    "p.age"
   ]
  },
  {
   "cell_type": "markdown",
   "metadata": {},
   "source": [
    "#### 编写一个类，用来封装股票交易的数据"
   ]
  },
  {
   "cell_type": "code",
   "execution_count": 126,
   "metadata": {},
   "outputs": [],
   "source": [
    "class StockTradeDays(object):\n",
    "    def __init__(self,price_array,start_day,date_array=None):\n",
    "        if not date_array:\n",
    "            date_array = self.initDate(price_array,start_day)\n",
    "        change_array = self.initChange(price_array)\n",
    "#         print(price_array)\n",
    "#         print(date_arrry)\n",
    "#         print(change_array)\n",
    "        self.stock_dict = self.createDict(price_array,date_array,change_array)\n",
    "    def initDate(self,price_array,start_day):\n",
    "        date_list=[str(start_day+i) for i,_ in enumerate(price_array)]\n",
    "        return date_list\n",
    "    def initChange(self,price_array):\n",
    "        pp_list=[(d1,d2) for d1,d2 in zip(price_array[:-1],price_array[1:])]\n",
    "        change_map = map(lambda pp:reduce(lambda d1,d2:round((d2-d1)/d1,3),pp),pp_list)\n",
    "        change_list = list(change_map)\n",
    "        change_list.insert(0,0.0)\n",
    "        return change_list\n",
    "    def createDict(self,price_array,date_arrry,change_array):\n",
    "        stock_tuple = namedtuple('stock',('date','price','change'))\n",
    "        dict=OrderedDict((date,stock_tuple(date,price,change)) for date,price,change in \n",
    "                         zip(date_arrry,price_array,change_array))\n",
    "        return dict\n",
    "    #对象支持打印\n",
    "    def __str__(self):\n",
    "        info=''\n",
    "        for item in self.stock_dict.items():\n",
    "            info+='KEY: %s\\tVALUE: %s\\n'%(str(item[0]),str(item[1]))\n",
    "        return info\n",
    "    #对象支持长度获取\n",
    "    def __len__(self):\n",
    "        return len(self.stock_dict)\n",
    "    #对象支持迭代\n",
    "    def __iter__(self):\n",
    "        for item in self.stock_dict.items():\n",
    "            yield item\n",
    "    #支持索引操作\n",
    "    def __getitem__(self,ind):\n",
    "        key_list=list(self.stock_dict.keys())\n",
    "        key = key_list[ind]\n",
    "        return self.stock_dict[key]\n",
    "    #支持功能函数的调用\n",
    "    def filter_stock(self,want_up=True,want_sum=False):\n",
    "        if want_up:\n",
    "            map = filter(lambda x:x.change>0 ,self.stock_dict.values())\n",
    "        else:\n",
    "            map = filter(lambda x:x.change<0 ,self.stock_dict.values())\n",
    "        if want_sum:\n",
    "            temp_map = copy.deepcopy(map)\n",
    "            sum = 0\n",
    "            for i in temp_map:\n",
    "                sum+=i.change\n",
    "            return (list(map),sum)\n",
    "        else:\n",
    "            return (list(map),)"
   ]
  },
  {
   "cell_type": "code",
   "execution_count": 127,
   "metadata": {},
   "outputs": [
    {
     "data": {
      "text/plain": [
       "([stock(date='20190704', price=26.66, change=0.127),\n",
       "  stock(date='20190705', price=28.95, change=0.086),\n",
       "  stock(date='20190706', price=30.22, change=0.044)],)"
      ]
     },
     "execution_count": 127,
     "metadata": {},
     "output_type": "execute_result"
    }
   ],
   "source": [
    "price_array=price_str.split(\",\")\n",
    "for i in range(len(price_array)):\n",
    "    price_array[i] = float(price_array[i])\n",
    "std=StockTradeDays(price_array,20190701)\n",
    "std.filter_stock()"
   ]
  },
  {
   "cell_type": "code",
   "execution_count": 128,
   "metadata": {},
   "outputs": [],
   "source": [
    "from abupy import ABuSymbolPd"
   ]
  },
  {
   "cell_type": "code",
   "execution_count": 129,
   "metadata": {},
   "outputs": [],
   "source": [
    "tsla_df=ABuSymbolPd.make_kl_df(\"TSLA\",n_folds=2)"
   ]
  },
  {
   "cell_type": "code",
   "execution_count": 132,
   "metadata": {},
   "outputs": [
    {
     "data": {
      "text/plain": [
       "<matplotlib.axes._subplots.AxesSubplot at 0x137db9e8>"
      ]
     },
     "execution_count": 132,
     "metadata": {},
     "output_type": "execute_result"
    },
    {
     "data": {
      "image/png": "[encoded data removed]",
      "text/plain": [
       "<Figure size 432x288 with 1 Axes>"
      ]
     },
     "metadata": {
      "needs_background": "light"
     },
     "output_type": "display_data"
    }
   ],
   "source": [
    "price_array=tsla_df.close.tolist()\n",
    "date_array=tsla_df.date.tolist()\n",
    "tsla_std=StockTradeDays(price_array,0,date_array)\n",
    "tsla_df.close.plot()"
   ]
  },
  {
   "cell_type": "code",
   "execution_count": null,
   "metadata": {},
   "outputs": [],
   "source": []
  }
 ],
 "metadata": {
  "anaconda-cloud": {},
  "kernelspec": {
   "display_name": "Python 3",
   "language": "python",
   "name": "python3"
  },
  "language_info": {
   "codemirror_mode": {
    "name": "ipython",
    "version": 3
   },
   "file_extension": ".py",
   "mimetype": "text/x-python",
   "name": "python",
   "nbconvert_exporter": "python",
   "pygments_lexer": "ipython3",
   "version": "3.7.1"
  }
 },
 "nbformat": 4,
 "nbformat_minor": 1
}
