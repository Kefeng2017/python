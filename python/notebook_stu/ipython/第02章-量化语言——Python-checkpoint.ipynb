{
 "cells": [
  {
   "cell_type": "markdown",
   "metadata": {},
   "source": [
    "### 基础模块的导入"
   ]
  },
  {
   "cell_type": "code",
   "execution_count": 1,
   "metadata": {},
   "outputs": [
    {
     "name": "stderr",
     "output_type": "stream",
     "text": [
      "enable example env will only read RomDataBu/csv\n"
     ]
    }
   ],
   "source": [
    "from __future__ import print_function\n",
    "# 使用本地的abu\n",
    "import os\n",
    "import sys\n",
    "# 使用insert 0即只使用外部的abupy，避免交叉使用了pip安装的abupy，导致的版本不一致问题\n",
    "sys.path.insert(0, os.path.abspath('../'))\n",
    "import abupy\n",
    "from abupy import six, xrange, range, reduce, map, filter, partial\n",
    "# 使用沙盒数据\n",
    "abupy.env.enable_example_env_ipython()"
   ]
  },
  {
   "cell_type": "markdown",
   "metadata": {},
   "source": [
    "### 查看一下当前的python版本"
   ]
  },
  {
   "cell_type": "code",
   "execution_count": 2,
   "metadata": {
    "scrolled": true
   },
   "outputs": [
    {
     "name": "stdout",
     "output_type": "stream",
     "text": [
      "3.7.3 (v3.7.3:ef4ec6ed12, Mar 25 2019, 22:22:05) [MSC v.1916 64 bit (AMD64)]\n"
     ]
    }
   ],
   "source": [
    "print(sys.version)"
   ]
  },
  {
   "cell_type": "markdown",
   "metadata": {},
   "source": [
    "# 第2章 量化语言-Python\n",
    "\n",
    "[<h1>极客营</h1>](http://igeekhome.com) \n",
    "\n",
    "本章讲解python在量化交易中经常需要用到的知识，不会涉及太复杂的内容。"
   ]
  },
  {
   "cell_type": "markdown",
   "metadata": {},
   "source": [
    "## 2.1 基本语法与数据结构"
   ]
  },
  {
   "cell_type": "markdown",
   "metadata": {},
   "source": [
    "### 2.1.1 基本类型和语法"
   ]
  },
  {
   "cell_type": "markdown",
   "metadata": {},
   "source": [
    "#### 1. 基本类型"
   ]
  },
  {
   "cell_type": "markdown",
   "metadata": {},
   "source": [
    "int 整数类型"
   ]
  },
  {
   "cell_type": "code",
   "execution_count": 3,
   "metadata": {},
   "outputs": [
    {
     "data": {
      "text/plain": [
       "int"
      ]
     },
     "execution_count": 3,
     "metadata": {},
     "output_type": "execute_result"
    }
   ],
   "source": [
    "i=10\n",
    "type(i)"
   ]
  },
  {
   "cell_type": "code",
   "execution_count": 4,
   "metadata": {},
   "outputs": [
    {
     "name": "stdout",
     "output_type": "stream",
     "text": [
      "<class 'int'>\n"
     ]
    }
   ],
   "source": [
    "#int类型在python中的特点\n",
    "#int在python中是一个类，而不是基本数据类型\n",
    "print(type(i))"
   ]
  },
  {
   "cell_type": "code",
   "execution_count": 5,
   "metadata": {},
   "outputs": [
    {
     "data": {
      "text/plain": [
       "int"
      ]
     },
     "execution_count": 5,
     "metadata": {},
     "output_type": "execute_result"
    }
   ],
   "source": [
    "#int类型的取值范围\n",
    "#python中没有长整数和短整数\n",
    "i=9999999999999999999999999999999999999999999999999999999999999999999\n",
    "type(i)"
   ]
  },
  {
   "cell_type": "markdown",
   "metadata": {},
   "source": [
    "float 浮点类型"
   ]
  },
  {
   "cell_type": "code",
   "execution_count": 6,
   "metadata": {},
   "outputs": [
    {
     "name": "stdout",
     "output_type": "stream",
     "text": [
      "<class 'float'>\n"
     ]
    }
   ],
   "source": [
    "#python中凡是带小数的都是float类型没有double\n",
    "f=0.5\n",
    "print(type(f))"
   ]
  },
  {
   "cell_type": "code",
   "execution_count": 7,
   "metadata": {},
   "outputs": [
    {
     "data": {
      "text/plain": [
       "0.12345678912345678"
      ]
     },
     "execution_count": 7,
     "metadata": {},
     "output_type": "execute_result"
    }
   ],
   "source": [
    "#float类型的精度17位有效数字\n",
    "f=0.123456789123456789\n",
    "f"
   ]
  },
  {
   "cell_type": "markdown",
   "metadata": {},
   "source": [
    "bool 布尔类型"
   ]
  },
  {
   "cell_type": "code",
   "execution_count": 8,
   "metadata": {},
   "outputs": [
    {
     "name": "stdout",
     "output_type": "stream",
     "text": [
      "<class 'bool'>\n"
     ]
    }
   ],
   "source": [
    "b=True\n",
    "print(type(b))"
   ]
  },
  {
   "cell_type": "markdown",
   "metadata": {},
   "source": [
    "str 字符/字符串类型"
   ]
  },
  {
   "cell_type": "code",
   "execution_count": 9,
   "metadata": {},
   "outputs": [
    {
     "name": "stdout",
     "output_type": "stream",
     "text": [
      "<class 'str'>\n"
     ]
    }
   ],
   "source": [
    "print(type(\"ss\"))"
   ]
  },
  {
   "cell_type": "markdown",
   "metadata": {},
   "source": [
    "#### 2. 基础语法\n",
    "python是通过缩进规则来组织代码逻辑的，4个空格表示一个缩进，可以使用tab键完成缩进。\n",
    "\n",
    "拥有相同缩进的代码属于同一个代码块，使用if,while,for,def,class等关键字时需要在行尾使用\":\"表示语句体开始，语句体中的代码缩进相同。\n",
    "* 条件语句使用if,else,elif，可判断的数据有bool,int,str,float和引用类型\n",
    "* isinstance(obj,class)用来验证obj是否为class的实例\n",
    "* python中的逻辑或、与、非对应的是or、and、not。"
   ]
  },
  {
   "cell_type": "markdown",
   "metadata": {},
   "source": [
    "判断price_str是否为int、float和str类型"
   ]
  },
  {
   "cell_type": "code",
   "execution_count": 10,
   "metadata": {},
   "outputs": [
    {
     "name": "stdout",
     "output_type": "stream",
     "text": [
      "price_str is not int type\n",
      "price_str is not float type\n",
      "price_str is str type\n"
     ]
    }
   ],
   "source": [
    "price_str=\"30.22, 28.67, 29.88, 31.99, 34.66\"\n",
    "if isinstance(price_str,int):\n",
    "    print('price_str is int type')\n",
    "else:\n",
    "    print('price_str is not int type')\n",
    "\n",
    "if isinstance(price_str,float):\n",
    "    print('price_str is float type')\n",
    "else:\n",
    "    print('price_str is not float type')\n",
    "    \n",
    "if isinstance(price_str,str):\n",
    "    print('price_str is str type')\n",
    "else:\n",
    "    print('price_str is not str type')"
   ]
  },
  {
   "cell_type": "code",
   "execution_count": 11,
   "metadata": {},
   "outputs": [
    {
     "name": "stdout",
     "output_type": "stream",
     "text": [
      "验票通过\n",
      "安检失败\n"
     ]
    }
   ],
   "source": [
    "#if嵌套\n",
    "ticket=True\n",
    "box = False\n",
    "if ticket:\n",
    "    print(\"验票通过\")\n",
    "    if box:\n",
    "        print(\"安检通过\")\n",
    "    else:\n",
    "        print('安检失败')\n",
    "else:\n",
    "    print(\"验票失败\")\n",
    "    "
   ]
  },
  {
   "cell_type": "markdown",
   "metadata": {},
   "source": [
    "### 2.1.2 字符串和容器\n",
    "字符串和容器所有语言中必不可少的，也是最基础的。"
   ]
  },
  {
   "cell_type": "markdown",
   "metadata": {},
   "source": [
    "#### 1. 字符串\n",
    "Python中的字符串是不可变对象，一般对字符串的API操作都是返回一个新的字符串"
   ]
  },
  {
   "cell_type": "markdown",
   "metadata": {},
   "source": [
    "通过id()，获取字符串的内存地址"
   ]
  },
  {
   "cell_type": "code",
   "execution_count": 12,
   "metadata": {},
   "outputs": [
    {
     "name": "stdout",
     "output_type": "stream",
     "text": [
      "2599401660976\n",
      "2599401644272\n"
     ]
    }
   ],
   "source": [
    "print(id('hello world'))\n",
    "print(id('hello world'))"
   ]
  },
  {
   "cell_type": "markdown",
   "metadata": {},
   "source": [
    "字符串的查询操作"
   ]
  },
  {
   "cell_type": "code",
   "execution_count": 13,
   "metadata": {},
   "outputs": [
    {
     "name": "stdout",
     "output_type": "stream",
     "text": [
      "30.22, 28.67, 29.88, 31.99, 34.66\n"
     ]
    },
    {
     "data": {
      "text/plain": [
       "14"
      ]
     },
     "execution_count": 13,
     "metadata": {},
     "output_type": "execute_result"
    }
   ],
   "source": [
    "print(price_str)\n",
    "price_str.find('29.88')"
   ]
  },
  {
   "cell_type": "code",
   "execution_count": 14,
   "metadata": {},
   "outputs": [
    {
     "data": {
      "text/plain": [
       "'2.8'"
      ]
     },
     "execution_count": 14,
     "metadata": {},
     "output_type": "execute_result"
    }
   ],
   "source": [
    "price_str[14:19:2]"
   ]
  },
  {
   "cell_type": "code",
   "execution_count": 15,
   "metadata": {},
   "outputs": [
    {
     "data": {
      "text/plain": [
       "'66.43 ,99.13 ,88.92 ,76.82 ,22.03'"
      ]
     },
     "execution_count": 15,
     "metadata": {},
     "output_type": "execute_result"
    }
   ],
   "source": [
    "price_str[::-1]"
   ]
  },
  {
   "cell_type": "code",
   "execution_count": 16,
   "metadata": {},
   "outputs": [
    {
     "data": {
      "text/plain": [
       "'30.22, 28.67, 29.88, 31.99, 34.66'"
      ]
     },
     "execution_count": 16,
     "metadata": {},
     "output_type": "execute_result"
    }
   ],
   "source": [
    "price_str[:100]"
   ]
  },
  {
   "cell_type": "code",
   "execution_count": 17,
   "metadata": {},
   "outputs": [
    {
     "data": {
      "text/plain": [
       "'6'"
      ]
     },
     "execution_count": 17,
     "metadata": {},
     "output_type": "execute_result"
    }
   ],
   "source": [
    "price_str[-1]"
   ]
  },
  {
   "cell_type": "markdown",
   "metadata": {},
   "source": [
    "使用replace()去除字符串中的空格"
   ]
  },
  {
   "cell_type": "code",
   "execution_count": 18,
   "metadata": {},
   "outputs": [
    {
     "name": "stdout",
     "output_type": "stream",
     "text": [
      "30.22, 28.67, 29.88, 31.99, 34.66\n",
      "30.22,28.67,29.88,31.99,34.66\n"
     ]
    }
   ],
   "source": [
    "print(price_str)\n",
    "price_str=price_str.replace(\" \",\"\")\n",
    "print(price_str)"
   ]
  },
  {
   "cell_type": "markdown",
   "metadata": {},
   "source": [
    "#### 2. 容器"
   ]
  },
  {
   "cell_type": "markdown",
   "metadata": {},
   "source": [
    "列表是一种有序的容器，可以对其中的数据进行增/删/改/查"
   ]
  },
  {
   "cell_type": "code",
   "execution_count": 19,
   "metadata": {},
   "outputs": [
    {
     "data": {
      "text/plain": [
       "['30.22', '28.67', '29.88', '31.99', '34.66']"
      ]
     },
     "execution_count": 19,
     "metadata": {},
     "output_type": "execute_result"
    }
   ],
   "source": [
    "price_list=price_str.split(',')\n",
    "price_list"
   ]
  },
  {
   "cell_type": "code",
   "execution_count": 20,
   "metadata": {},
   "outputs": [
    {
     "data": {
      "text/plain": [
       "['30.22', '28.67', '29.88', '31.99', '34.66', '36.25']"
      ]
     },
     "execution_count": 20,
     "metadata": {},
     "output_type": "execute_result"
    }
   ],
   "source": [
    "#增加一个数据\n",
    "price_list.append('36.25')\n",
    "price_list"
   ]
  },
  {
   "cell_type": "code",
   "execution_count": 21,
   "metadata": {},
   "outputs": [
    {
     "data": {
      "text/plain": [
       "['30.22', '28.67', '29.88', '31.99', '34.66']"
      ]
     },
     "execution_count": 21,
     "metadata": {},
     "output_type": "execute_result"
    }
   ],
   "source": [
    "del(price_list[-1])\n",
    "price_list\n",
    "#price_list.pop()\n",
    "#price_list.remove('36.25')"
   ]
  },
  {
   "cell_type": "code",
   "execution_count": 22,
   "metadata": {},
   "outputs": [
    {
     "data": {
      "text/plain": [
       "['30.22', '28.67', '29.88', '31.56', '34.66']"
      ]
     },
     "execution_count": 22,
     "metadata": {},
     "output_type": "execute_result"
    }
   ],
   "source": [
    "price_list[3]='31.56'\n",
    "price_list"
   ]
  },
  {
   "cell_type": "code",
   "execution_count": 23,
   "metadata": {},
   "outputs": [
    {
     "name": "stdout",
     "output_type": "stream",
     "text": [
      "30.22\n",
      "28.67\n",
      "29.88\n",
      "31.56\n",
      "34.66\n"
     ]
    }
   ],
   "source": [
    "for i in price_list:\n",
    "    print(i)"
   ]
  },
  {
   "cell_type": "markdown",
   "metadata": {},
   "source": [
    "元组和列表基本一致，可以理解为列表的特殊形式，特点是不能修改"
   ]
  },
  {
   "cell_type": "code",
   "execution_count": 24,
   "metadata": {},
   "outputs": [
    {
     "data": {
      "text/plain": [
       "('30.22', '28.67', '29.88', '31.56', '34.66')"
      ]
     },
     "execution_count": 24,
     "metadata": {},
     "output_type": "execute_result"
    }
   ],
   "source": [
    "t=tuple(price_list)\n",
    "t"
   ]
  },
  {
   "cell_type": "code",
   "execution_count": 25,
   "metadata": {},
   "outputs": [
    {
     "ename": "AttributeError",
     "evalue": "'tuple' object has no attribute 'append'",
     "output_type": "error",
     "traceback": [
      "\u001b[1;31m--------------------------------------------------------------------------\u001b[0m",
      "\u001b[1;31mAttributeError\u001b[0m                           Traceback (most recent call last)",
      "\u001b[1;32m<ipython-input-25-a83f8974566d>\u001b[0m in \u001b[0;36m<module>\u001b[1;34m\u001b[0m\n\u001b[1;32m----> 1\u001b[1;33m \u001b[0mt\u001b[0m\u001b[1;33m.\u001b[0m\u001b[0mappend\u001b[0m\u001b[1;33m(\u001b[0m\u001b[1;34m'aaa'\u001b[0m\u001b[1;33m)\u001b[0m\u001b[1;33m\u001b[0m\u001b[1;33m\u001b[0m\u001b[0m\n\u001b[0m",
      "\u001b[1;31mAttributeError\u001b[0m: 'tuple' object has no attribute 'append'"
     ]
    }
   ],
   "source": [
    "t.append('aaa')"
   ]
  },
  {
   "cell_type": "code",
   "execution_count": null,
   "metadata": {},
   "outputs": [],
   "source": [
    "del t[1]"
   ]
  },
  {
   "cell_type": "code",
   "execution_count": null,
   "metadata": {},
   "outputs": [],
   "source": [
    "t[1]='28.33'"
   ]
  },
  {
   "cell_type": "code",
   "execution_count": 26,
   "metadata": {},
   "outputs": [
    {
     "name": "stdout",
     "output_type": "stream",
     "text": [
      "30.22\n",
      "28.67\n",
      "29.88\n",
      "31.56\n",
      "34.66\n"
     ]
    }
   ],
   "source": [
    "for i in t:\n",
    "    print(i)"
   ]
  },
  {
   "cell_type": "markdown",
   "metadata": {},
   "source": [
    "集合是一种无序的容器，特点是元素不能重复"
   ]
  },
  {
   "cell_type": "code",
   "execution_count": 27,
   "metadata": {},
   "outputs": [
    {
     "name": "stdout",
     "output_type": "stream",
     "text": [
      "['30.22', '28.67', '29.88', '31.56', '34.66', '29.88']\n"
     ]
    },
    {
     "data": {
      "text/plain": [
       "{'28.67', '29.88', '30.22', '31.56', '34.66'}"
      ]
     },
     "execution_count": 27,
     "metadata": {},
     "output_type": "execute_result"
    }
   ],
   "source": [
    "price_list.append(\"29.88\")\n",
    "print(price_list)\n",
    "price_set=set(price_list)\n",
    "price_set"
   ]
  },
  {
   "cell_type": "markdown",
   "metadata": {},
   "source": [
    "#### 3. 循环控制\n",
    "Python中循环与其他语言类似：\n",
    "* 循环表达式 for i in array 循环从array中取出元素赋值给i变量\n",
    "* while循环，当循环条件为真时不断循环，循环条件为假时结束循环"
   ]
  },
  {
   "cell_type": "markdown",
   "metadata": {},
   "source": [
    "### 【需求1】将一组收盘价格赋予更多的含义，加上对应的收盘日期。"
   ]
  },
  {
   "cell_type": "markdown",
   "metadata": {},
   "source": [
    "首先创建一个列表，里面对应着每个收盘价格的交易日，使用for循环实现"
   ]
  },
  {
   "cell_type": "code",
   "execution_count": 28,
   "metadata": {},
   "outputs": [
    {
     "data": {
      "text/plain": [
       "['20190410', '20190411', '20190412', '20190413', '20190414']"
      ]
     },
     "execution_count": 28,
     "metadata": {},
     "output_type": "execute_result"
    }
   ],
   "source": [
    "price_list = price_str.split(\",\")\n",
    "data_base=20190410\n",
    "data_list=[]\n",
    "for price in price_list:\n",
    "    data_list.append(str(data_base))\n",
    "    data_base+=1\n",
    "data_list"
   ]
  },
  {
   "cell_type": "markdown",
   "metadata": {},
   "source": [
    "同样创建一个列表，里面对应着每个收盘价格的交易日，使用while循环实现"
   ]
  },
  {
   "cell_type": "code",
   "execution_count": 29,
   "metadata": {},
   "outputs": [
    {
     "data": {
      "text/plain": [
       "['20190410', '20190411', '20190412', '20190413', '20190414']"
      ]
     },
     "execution_count": 29,
     "metadata": {},
     "output_type": "execute_result"
    }
   ],
   "source": [
    "data_base=20190410\n",
    "data_list=[]\n",
    "count=0\n",
    "while count<len(price_list):\n",
    "    data_list.append(str(data_base))\n",
    "    data_base+=1\n",
    "    count+=1\n",
    "data_list"
   ]
  },
  {
   "cell_type": "markdown",
   "metadata": {},
   "source": [
    "#### 4. 列表推导式\n",
    "前面构建一组日期的代码太多了，在python金融量化数据分析中，建议使用更简洁的写法，即列表推到式"
   ]
  },
  {
   "cell_type": "markdown",
   "metadata": {},
   "source": [
    "创建一个列表，里面对应着每个收盘价格的交易日，使用列表推导式实现"
   ]
  },
  {
   "cell_type": "code",
   "execution_count": 30,
   "metadata": {},
   "outputs": [
    {
     "data": {
      "text/plain": [
       "['20190410', '20190411', '20190412', '20190413', '20190414']"
      ]
     },
     "execution_count": 30,
     "metadata": {},
     "output_type": "execute_result"
    }
   ],
   "source": [
    "data_base=20190410\n",
    "data_list=[str(data_base+ind) for ind,_ in enumerate(price_list)]\n",
    "data_list"
   ]
  },
  {
   "cell_type": "code",
   "execution_count": 31,
   "metadata": {},
   "outputs": [
    {
     "name": "stdout",
     "output_type": "stream",
     "text": [
      "(0, '30.22')\n",
      "(1, '28.67')\n",
      "(2, '29.88')\n",
      "(3, '31.99')\n",
      "(4, '34.66')\n"
     ]
    }
   ],
   "source": [
    "for temp in enumerate(price_list):\n",
    "    print(temp)"
   ]
  },
  {
   "cell_type": "code",
   "execution_count": 32,
   "metadata": {},
   "outputs": [
    {
     "name": "stdout",
     "output_type": "stream",
     "text": [
      "0\n",
      "30.22\n"
     ]
    }
   ],
   "source": [
    "a,b=(0,'30.22')\n",
    "print(a)\n",
    "print(b)"
   ]
  },
  {
   "cell_type": "code",
   "execution_count": 33,
   "metadata": {},
   "outputs": [
    {
     "data": {
      "text/plain": [
       "[0, 1, 2, 3, 4, 5, 6, 7, 8, 9, 10, 11, 12, 13, 14, 15, 16, 17, 18, 19, 20]"
      ]
     },
     "execution_count": 33,
     "metadata": {},
     "output_type": "execute_result"
    }
   ],
   "source": [
    "#使用列表推导式得到如下列表[0,1,2,3....20]\n",
    "t_list=[i for i in range(21)]\n",
    "t_list"
   ]
  },
  {
   "cell_type": "code",
   "execution_count": 34,
   "metadata": {},
   "outputs": [
    {
     "data": {
      "text/plain": [
       "[0, 2, 4, 6, 8, 10, 12, 14, 16, 18, 20]"
      ]
     },
     "execution_count": 34,
     "metadata": {},
     "output_type": "execute_result"
    }
   ],
   "source": [
    "#使用列表推导式得到如下列表[0,2,4,6,8,..20]\n",
    "t_list=[i for i in range(21) if i%2==0]\n",
    "t_list"
   ]
  },
  {
   "cell_type": "code",
   "execution_count": 35,
   "metadata": {},
   "outputs": [
    {
     "data": {
      "text/plain": [
       "[(0, 0), (0, 1), (0, 2), (1, 0), (1, 1), (1, 2), (2, 0), (2, 1), (2, 2)]"
      ]
     },
     "execution_count": 35,
     "metadata": {},
     "output_type": "execute_result"
    }
   ],
   "source": [
    "t_list=[(i,j) for i in range(3) for j in range(3)]\n",
    "t_list"
   ]
  },
  {
   "cell_type": "code",
   "execution_count": 36,
   "metadata": {},
   "outputs": [
    {
     "data": {
      "text/plain": [
       "[(1, 2, 3), (4, 5, 6), (7, 8, 9)]"
      ]
     },
     "execution_count": 36,
     "metadata": {},
     "output_type": "execute_result"
    }
   ],
   "source": [
    "#使用列表推导式生成[(1,2,3),(4,5,6),(7,8,9)]\n",
    "t_list=[(i,i+1,i+2) for i in range(1,10,3)]\n",
    "t_list"
   ]
  },
  {
   "cell_type": "markdown",
   "metadata": {},
   "source": [
    "为了使价格和日期对应，我们可以使用元组来封装数据，代码如下："
   ]
  },
  {
   "cell_type": "code",
   "execution_count": 37,
   "metadata": {},
   "outputs": [
    {
     "data": {
      "text/plain": [
       "[('20190410', '30.22'),\n",
       " ('20190411', '28.67'),\n",
       " ('20190412', '29.88'),\n",
       " ('20190413', '31.99'),\n",
       " ('20190414', '34.66')]"
      ]
     },
     "execution_count": 37,
     "metadata": {},
     "output_type": "execute_result"
    }
   ],
   "source": [
    "stock_tuple_list=[(date,price) for date,price in zip(data_list,price_list)]\n",
    "stock_tuple_list"
   ]
  },
  {
   "cell_type": "markdown",
   "metadata": {},
   "source": [
    "#### 5. 可命名元组\n",
    "上述代码通过索引值访问tuple，欠缺灵活性，可以通过namedtuple改进"
   ]
  },
  {
   "cell_type": "code",
   "execution_count": 38,
   "metadata": {},
   "outputs": [
    {
     "data": {
      "text/plain": [
       "[stock(date='20190410', price='30.22'),\n",
       " stock(date='20190411', price='28.67'),\n",
       " stock(date='20190412', price='29.88'),\n",
       " stock(date='20190413', price='31.99'),\n",
       " stock(date='20190414', price='34.66')]"
      ]
     },
     "execution_count": 38,
     "metadata": {},
     "output_type": "execute_result"
    }
   ],
   "source": [
    "from collections import namedtuple\n",
    "stock_named = namedtuple('stock',('date,price'))\n",
    "stock_named_tuple_list=[stock_named(date,price) \n",
    "                        for date,price in zip(data_list,price_list)]\n",
    "stock_named_tuple_list"
   ]
  },
  {
   "cell_type": "code",
   "execution_count": 39,
   "metadata": {},
   "outputs": [
    {
     "data": {
      "text/plain": [
       "stock(date='20190410', price='30.22')"
      ]
     },
     "execution_count": 39,
     "metadata": {},
     "output_type": "execute_result"
    }
   ],
   "source": [
    "stock_named_tuple_list[0]"
   ]
  },
  {
   "cell_type": "code",
   "execution_count": 40,
   "metadata": {},
   "outputs": [
    {
     "data": {
      "text/plain": [
       "__main__.stock"
      ]
     },
     "execution_count": 40,
     "metadata": {},
     "output_type": "execute_result"
    }
   ],
   "source": [
    "type(stock_named_tuple_list[0])"
   ]
  },
  {
   "cell_type": "code",
   "execution_count": 41,
   "metadata": {},
   "outputs": [
    {
     "ename": "TypeError",
     "evalue": "tuple indices must be integers or slices, not str",
     "output_type": "error",
     "traceback": [
      "\u001b[1;31m--------------------------------------------------------------------------\u001b[0m",
      "\u001b[1;31mTypeError\u001b[0m                                Traceback (most recent call last)",
      "\u001b[1;32m<ipython-input-41-13e79ee175c3>\u001b[0m in \u001b[0;36m<module>\u001b[1;34m\u001b[0m\n\u001b[1;32m----> 1\u001b[1;33m \u001b[0mstock_named_tuple_list\u001b[0m\u001b[1;33m[\u001b[0m\u001b[1;36m0\u001b[0m\u001b[1;33m]\u001b[0m\u001b[1;33m[\u001b[0m\u001b[1;34m'date'\u001b[0m\u001b[1;33m]\u001b[0m\u001b[1;33m\u001b[0m\u001b[1;33m\u001b[0m\u001b[0m\n\u001b[0m",
      "\u001b[1;31mTypeError\u001b[0m: tuple indices must be integers or slices, not str"
     ]
    }
   ],
   "source": [
    "stock_named_tuple_list[0]['date']"
   ]
  },
  {
   "cell_type": "markdown",
   "metadata": {},
   "source": [
    "#### 6. 字典推导式\n",
    "使用dict来完成这个认为，同样使用推导式，代码更简洁。\n",
    "\n",
    "字典推导式：<i>{k:v for k:v in tupleArray}</i>"
   ]
  },
  {
   "cell_type": "code",
   "execution_count": 42,
   "metadata": {},
   "outputs": [
    {
     "data": {
      "text/plain": [
       "{'20190410': '30.22',\n",
       " '20190411': '28.67',\n",
       " '20190412': '29.88',\n",
       " '20190413': '31.99',\n",
       " '20190414': '34.66'}"
      ]
     },
     "execution_count": 42,
     "metadata": {},
     "output_type": "execute_result"
    }
   ],
   "source": [
    "stock_dict={key:value for key,value in zip(data_list,price_list)}\n",
    "stock_dict"
   ]
  },
  {
   "cell_type": "code",
   "execution_count": 43,
   "metadata": {},
   "outputs": [
    {
     "data": {
      "text/plain": [
       "'31.99'"
      ]
     },
     "execution_count": 43,
     "metadata": {},
     "output_type": "execute_result"
    }
   ],
   "source": [
    "stock_dict['20190413']"
   ]
  },
  {
   "cell_type": "code",
   "execution_count": 44,
   "metadata": {},
   "outputs": [
    {
     "data": {
      "text/plain": [
       "dict_keys(['20190410', '20190411', '20190412', '20190413', '20190414'])"
      ]
     },
     "execution_count": 44,
     "metadata": {},
     "output_type": "execute_result"
    }
   ],
   "source": [
    "stock_dict.keys()"
   ]
  },
  {
   "cell_type": "code",
   "execution_count": 45,
   "metadata": {},
   "outputs": [
    {
     "data": {
      "text/plain": [
       "dict_values(['30.22', '28.67', '29.88', '31.99', '34.66'])"
      ]
     },
     "execution_count": 45,
     "metadata": {},
     "output_type": "execute_result"
    }
   ],
   "source": [
    "stock_dict.values()"
   ]
  },
  {
   "cell_type": "markdown",
   "metadata": {},
   "source": [
    "#### 7. 有序字典OrderedDict\n",
    "默认字典中的keys是无序的，不同版本会有差异（3.5无序，3.6有序），为了确保程序的正确性建议使用有序字典。\n",
    "### 【需求2】需要字典按照时间顺序，所以这里使用OrderedDict，字典将按照插入的顺序排列，代码如下："
   ]
  },
  {
   "cell_type": "code",
   "execution_count": 46,
   "metadata": {},
   "outputs": [
    {
     "name": "stdout",
     "output_type": "stream",
     "text": [
      "2599401703944\n",
      "2599401702096\n"
     ]
    },
    {
     "data": {
      "text/plain": [
       "True"
      ]
     },
     "execution_count": 46,
     "metadata": {},
     "output_type": "execute_result"
    }
   ],
   "source": [
    "a=str(100)\n",
    "b=str(100)\n",
    "print(id(a))\n",
    "print(id(b))\n",
    "a == b"
   ]
  },
  {
   "cell_type": "code",
   "execution_count": 47,
   "metadata": {},
   "outputs": [
    {
     "data": {
      "text/plain": [
       "False"
      ]
     },
     "execution_count": 47,
     "metadata": {},
     "output_type": "execute_result"
    }
   ],
   "source": [
    "a is b"
   ]
  },
  {
   "cell_type": "markdown",
   "metadata": {},
   "source": [
    "## 2.2 函数"
   ]
  },
  {
   "cell_type": "markdown",
   "metadata": {},
   "source": [
    "### 2.2.1 函数的使用和定义"
   ]
  },
  {
   "cell_type": "markdown",
   "metadata": {},
   "source": [
    "#### 1. 内置函数\n",
    "内置函数是系统内置好的，可以直接使用"
   ]
  },
  {
   "cell_type": "markdown",
   "metadata": {},
   "source": [
    "### 【需求3】从前面的字典数据中，找出收盘价格最低的"
   ]
  },
  {
   "cell_type": "code",
   "execution_count": 48,
   "metadata": {},
   "outputs": [
    {
     "data": {
      "text/plain": [
       "'20190410'"
      ]
     },
     "execution_count": 48,
     "metadata": {},
     "output_type": "execute_result"
    }
   ],
   "source": [
    "min(stock_dict)"
   ]
  },
  {
   "cell_type": "code",
   "execution_count": 49,
   "metadata": {},
   "outputs": [
    {
     "data": {
      "text/plain": [
       "('28.67', '20190411')"
      ]
     },
     "execution_count": 49,
     "metadata": {},
     "output_type": "execute_result"
    }
   ],
   "source": [
    "min(zip(stock_dict.values(),stock_dict.keys()))"
   ]
  },
  {
   "cell_type": "code",
   "execution_count": 50,
   "metadata": {},
   "outputs": [
    {
     "data": {
      "text/plain": [
       "('34.66', '20190414')"
      ]
     },
     "execution_count": 50,
     "metadata": {},
     "output_type": "execute_result"
    }
   ],
   "source": [
    "max(zip(stock_dict.values(),stock_dict.keys()))"
   ]
  },
  {
   "cell_type": "markdown",
   "metadata": {},
   "source": [
    "#### 2. 自定义函数\n",
    "### 【需求4】找出所有收盘价格中第2大的元素\n",
    "系统并没有可以找出第2大元素的内置函数，但是我们可以自己编写函数实现"
   ]
  },
  {
   "cell_type": "code",
   "execution_count": 51,
   "metadata": {},
   "outputs": [
    {
     "name": "stdout",
     "output_type": "stream",
     "text": [
      "('31.99', '20190413')\n"
     ]
    }
   ],
   "source": [
    "def find_second_max(t_dict):\n",
    "    ret=sorted(zip(t_dict.values(),t_dict.keys()))\n",
    "    return ret[-2]\n",
    "print(find_second_max(stock_dict))"
   ]
  },
  {
   "cell_type": "markdown",
   "metadata": {},
   "source": [
    "### 2.2.2 lambda函数\n",
    "对于向上述这样比较简单的函数，使用lambda匿名函数直接定义更加简洁"
   ]
  },
  {
   "cell_type": "code",
   "execution_count": 52,
   "metadata": {},
   "outputs": [],
   "source": [
    "find_second_max_lambda = lambda t_dict:sorted(\n",
    "    zip(t_dict.values(),t_dict.keys()))[-2]"
   ]
  },
  {
   "cell_type": "code",
   "execution_count": 53,
   "metadata": {},
   "outputs": [
    {
     "name": "stdout",
     "output_type": "stream",
     "text": [
      "('31.99', '20190413')\n"
     ]
    }
   ],
   "source": [
    "print(find_second_max_lambda(stock_dict))"
   ]
  },
  {
   "cell_type": "markdown",
   "metadata": {},
   "source": [
    "### 2.2.3 高阶函数\n",
    "常见的高阶函数包括：\n",
    "* map()函数，接收2个参数，一个是函数，一个是序列，map()把传入的函数依次作用于序列中的每个元素，并把结果作为新的序列返回"
   ]
  },
  {
   "cell_type": "code",
   "execution_count": 54,
   "metadata": {},
   "outputs": [
    {
     "name": "stdout",
     "output_type": "stream",
     "text": [
      "2.232 3.222 4.246 5.244 6.564 7.568 "
     ]
    }
   ],
   "source": [
    "array=[1.232,2.222,3.246,4.244,5.564,6.568]\n",
    "new_array = map(lambda x:x+1,array)\n",
    "for num in new_array:\n",
    "    print(num,end=\" \")"
   ]
  },
  {
   "cell_type": "markdown",
   "metadata": {},
   "source": [
    "* filter()函数，接收2个参数，一个是函数，一个是序列，filter()把传入的函数依次作用于序列中的每个元素，并根据返回值是True还是False决定是否保留元素，结果是序列中所有返回结果为True的子集。"
   ]
  },
  {
   "cell_type": "code",
   "execution_count": 55,
   "metadata": {},
   "outputs": [
    {
     "name": "stdout",
     "output_type": "stream",
     "text": [
      "<function <lambda> at 0x0000025D387021E0>\n",
      "-8.36 "
     ]
    }
   ],
   "source": [
    "array=['2.56','1.33','-8.36','5.26']\n",
    "new_array = filter(lambda x:float(x)<0,array)\n",
    "print(lambda x:float(x)<0)\n",
    "for num in new_array:\n",
    "    print(num,end=' ')"
   ]
  },
  {
   "cell_type": "markdown",
   "metadata": {},
   "source": [
    "* reduce()函数，把一个函数作用在一个序列上，这个函数必须接收2个参数，其中reduce()函数把结果继续和序列的下一个元素做累积计算，reduce()函数只返回值结果非序列。"
   ]
  },
  {
   "cell_type": "code",
   "execution_count": 56,
   "metadata": {},
   "outputs": [
    {
     "data": {
      "text/plain": [
       "9692.75648422224"
      ]
     },
     "execution_count": 56,
     "metadata": {},
     "output_type": "execute_result"
    }
   ],
   "source": [
    "array=[10000,0.052,-0.043,0.056,-0.031,-0.025,-0.035]\n",
    "ret = reduce(lambda x,y:x*y+x,array)\n",
    "ret"
   ]
  },
  {
   "cell_type": "markdown",
   "metadata": {},
   "source": [
    "### 【需求5】从收盘价格，推算出每天的涨跌幅度"
   ]
  },
  {
   "cell_type": "markdown",
   "metadata": {},
   "source": [
    "首先将两两相邻的收盘几个组成tuple放入list"
   ]
  },
  {
   "cell_type": "code",
   "execution_count": 57,
   "metadata": {},
   "outputs": [
    {
     "data": {
      "text/plain": [
       "[(30.22, 28.67), (28.67, 29.88), (29.88, 31.99), (31.99, 34.66)]"
      ]
     },
     "execution_count": 57,
     "metadata": {},
     "output_type": "execute_result"
    }
   ],
   "source": [
    "p_array=[float(p_str) for p_str in stock_dict.values()]\n",
    "pp_array=[(p1,p2) for p1,p2 in zip(p_array[0:-1],p_array[1:])]\n",
    "pp_array"
   ]
  },
  {
   "cell_type": "markdown",
   "metadata": {},
   "source": [
    "使用高阶函数map()和reduce()结合lambda函数，推到出每天的涨跌幅度"
   ]
  },
  {
   "cell_type": "code",
   "execution_count": 58,
   "metadata": {},
   "outputs": [
    {
     "name": "stdout",
     "output_type": "stream",
     "text": [
      "-0.051\t0.042\t0.071\t0.083\t"
     ]
    }
   ],
   "source": [
    "change_array=map(lambda pp:reduce(lambda p1,p2:round((p2-p1)/p1,3),pp)\n",
    "                 ,pp_array)\n",
    "#map(lambda pp:***,pp_array)\n",
    "#***-> reduce(lambda p1,p2:round((p2-p1)/p1,3),pp)\n",
    "for change in change_array:\n",
    "    print(change,end=\"\\t\")"
   ]
  },
  {
   "cell_type": "markdown",
   "metadata": {},
   "source": [
    "将计算出的涨跌幅数据加入OrderedDict，配合使用namedtuple重新构建数据。"
   ]
  },
  {
   "cell_type": "code",
   "execution_count": 59,
   "metadata": {},
   "outputs": [
    {
     "name": "stdout",
     "output_type": "stream",
     "text": [
      "['20190410', '20190411', '20190412', '20190413', '20190414']\n",
      "['30.22', '28.67', '29.88', '31.99', '34.66']\n",
      "[0.0, -0.051, 0.042, 0.071, 0.083]\n"
     ]
    },
    {
     "data": {
      "text/plain": [
       "OrderedDict([('20190410', stock(date='20190410', price='30.22', change=0.0)),\n",
       "             ('20190411',\n",
       "              stock(date='20190411', price='28.67', change=-0.051)),\n",
       "             ('20190412', stock(date='20190412', price='29.88', change=0.042)),\n",
       "             ('20190413', stock(date='20190413', price='31.99', change=0.071)),\n",
       "             ('20190414',\n",
       "              stock(date='20190414', price='34.66', change=0.083))])"
      ]
     },
     "execution_count": 59,
     "metadata": {},
     "output_type": "execute_result"
    }
   ],
   "source": [
    "change_array=map(lambda pp:reduce(lambda p1,p2:round((p2-p1)/p1,3),pp)\n",
    "                 ,pp_array)\n",
    "change_list = list(change_array)\n",
    "change_list.insert(0,0.0)\n",
    "print(data_list)\n",
    "print(price_list)\n",
    "print(change_list)\n",
    "n_tuple = namedtuple('stock',('date','price','change'))\n",
    "from collections import OrderedDict\n",
    "stock_dict_final = OrderedDict((date,n_tuple(date,price,change)) \n",
    "                              for date,price,change in zip(\n",
    "                              data_list,price_list,change_list))\n",
    "stock_dict_final"
   ]
  },
  {
   "cell_type": "markdown",
   "metadata": {},
   "source": [
    "使用filter()进行数据筛选，筛选出上涨的交易日。"
   ]
  },
  {
   "cell_type": "code",
   "execution_count": 60,
   "metadata": {},
   "outputs": [
    {
     "name": "stdout",
     "output_type": "stream",
     "text": [
      "stock(date='20190412', price='29.88', change=0.042)\n",
      "stock(date='20190413', price='31.99', change=0.071)\n",
      "stock(date='20190414', price='34.66', change=0.083)\n"
     ]
    }
   ],
   "source": [
    "stock_up = filter(lambda item:item.change>0,stock_dict_final.values())\n",
    "for up_item in stock_up:\n",
    "    print(up_item)"
   ]
  },
  {
   "cell_type": "markdown",
   "metadata": {},
   "source": [
    "以上代码是筛选出上涨的交易日，但是有时候我们还需要下跌的交易日，或者上涨的幅度总和和下跌的幅度总和。下面用一个通用函数来完成所有的需求。"
   ]
  },
  {
   "cell_type": "code",
   "execution_count": 61,
   "metadata": {},
   "outputs": [],
   "source": [
    "import copy\n",
    "def filter_stock(s_dict,change_up=True,change_total=False):\n",
    "    if change_up:\n",
    "        want_days = filter(lambda item:item.change>0,s_dict.values())\n",
    "    else:\n",
    "        want_days = filter(lambda item:item.change<0,s_dict.values())\n",
    "    if change_total:\n",
    "        change_sum=0\n",
    "        temp=copy.deepcopy(want_days)\n",
    "        for day in temp:\n",
    "            change_sum += day.change\n",
    "        \n",
    "        return (want_days,change_sum)\n",
    "    else:\n",
    "        return (want_days,)"
   ]
  },
  {
   "cell_type": "code",
   "execution_count": 62,
   "metadata": {
    "scrolled": true
   },
   "outputs": [
    {
     "name": "stdout",
     "output_type": "stream",
     "text": [
      "stock(date='20190412', price='29.88', change=0.042)\n",
      "stock(date='20190413', price='31.99', change=0.071)\n",
      "stock(date='20190414', price='34.66', change=0.083)\n",
      "0.196\n"
     ]
    }
   ],
   "source": [
    "ret=filter_stock(stock_dict_final,change_up=True,change_total=True)\n",
    "for day in ret[0]:\n",
    "    print(day)\n",
    "if len(ret)>1:\n",
    "    print(ret[1])\n"
   ]
  },
  {
   "cell_type": "markdown",
   "metadata": {},
   "source": [
    "### 2.2.4 偏函数\n",
    "上一个示例中的函数参数太多了，很容易在使用时产生错误，functools.partial()函数可以固定某些参数创建一个新的函数，从而在调用时更简单，函数功能也更明确。"
   ]
  },
  {
   "cell_type": "code",
   "execution_count": 63,
   "metadata": {},
   "outputs": [
    {
     "name": "stdout",
     "output_type": "stream",
     "text": [
      "所有上涨的交易日:[stock(date='20190412', price='29.88', change=0.042), stock(date='20190413', price='31.99', change=0.071), stock(date='20190414', price='34.66', change=0.083)]\n",
      "所有下跌的交易日:[stock(date='20190411', price='28.67', change=-0.051)]\n",
      "所有上涨幅度的总和:0.196\n",
      "所有下跌幅度的总和:-0.051\n"
     ]
    }
   ],
   "source": [
    "print(\"所有上涨的交易日:{}\".format(list(filter_stock(stock_dict_final)[0])))\n",
    "print(\"所有下跌的交易日:{}\".format(list(filter_stock(stock_dict_final,\n",
    "                                             change_up=False)[0])))\n",
    "print(\"所有上涨幅度的总和:\"+str(filter_stock(stock_dict_final,\n",
    "                                             change_total=True)[1]))\n",
    "print(\"所有下跌幅度的总和:\"+str(filter_stock(stock_dict_final,\n",
    "                                    change_up=False,change_total=True)[1]))"
   ]
  },
  {
   "cell_type": "code",
   "execution_count": 64,
   "metadata": {},
   "outputs": [
    {
     "name": "stdout",
     "output_type": "stream",
     "text": [
      "所有上涨的交易日:[stock(date='20190412', price='29.88', change=0.042), stock(date='20190413', price='31.99', change=0.071), stock(date='20190414', price='34.66', change=0.083)]\n",
      "所有下跌的交易日:[stock(date='20190411', price='28.67', change=-0.051)]\n"
     ]
    }
   ],
   "source": [
    "from functools import partial\n",
    "want_up_days = partial(filter_stock,change_up=True,change_total=False)\n",
    "print(\"所有上涨的交易日:{}\".format(list(want_up_days(stock_dict_final)[0])))\n",
    "want_down_days = partial(filter_stock,change_up=False,change_total=False)\n",
    "print(\"所有下跌的交易日:{}\".format(list(want_down_days(stock_dict_final)[0])))"
   ]
  },
  {
   "cell_type": "markdown",
   "metadata": {},
   "source": [
    "## 2.3 面向对象\n",
    "面向对象编程(OOP)是一种计算机编程架构，OOP达到了软件工程的3个注意目标：重用性、灵活性和扩展性。"
   ]
  },
  {
   "cell_type": "markdown",
   "metadata": {},
   "source": [
    "### 2.3.1 类的封装\n",
    "将之前的数据操作封装到类中"
   ]
  },
  {
   "cell_type": "code",
   "execution_count": 65,
   "metadata": {},
   "outputs": [],
   "source": [
    "class StockTradeDays(object):\n",
    "    def __init__(self,price_array,start_day):\n",
    "        self.__price_array=price_array\n",
    "        self.__date_array=self.__init_date(start_day)\n",
    "        self.__change_array=self.__init_change()\n",
    "        self.stock_dict=self.__init_stock_dict()\n",
    "    def __init_date(self,start_day):\n",
    "        date_array=[str(start_day+ind) \n",
    "                         for ind,_ in enumerate(self.__price_array)]\n",
    "        return date_array\n",
    "    def __init_change(self):\n",
    "        pp_array=[(float(p1),float(p2)) for p1,p2 in \n",
    "                  zip(self.__price_array[0:-1],self.__price_array[1:])]\n",
    "        change_map=map(lambda pp:\n",
    "                       reduce(lambda p1,p2:round((p2-p1)/p1,3),pp)\n",
    "                       ,pp_array)\n",
    "        change_array=list(change_map)\n",
    "        change_array.insert(0,0)\n",
    "        return change_array\n",
    "    def __init_stock_dict(self):\n",
    "        n_tuple=namedtuple('stock',('date','price','change'))\n",
    "        stock_dict=OrderedDict((date,n_tuple(date,price,change))\n",
    "                               for date,price,change in\n",
    "                               zip(self.__date_array,\n",
    "                                   self.__price_array,\n",
    "                                   self.__change_array))\n",
    "        return stock_dict\n",
    "    def filter_stock(self,change_up=True,change_total=False):\n",
    "        if change_up:\n",
    "            want_days = filter(lambda item:item.change>0,\n",
    "                               self.stock_dict.values())\n",
    "        else:\n",
    "            want_days = filter(lambda item:item.change<0,\n",
    "                               self.stock_dict.values())\n",
    "        if change_total:\n",
    "            change_sum=0\n",
    "            temp=copy.deepcopy(want_days)\n",
    "            for day in temp:\n",
    "                change_sum += day.change\n",
    "            return (list(want_days),change_sum)\n",
    "        else:\n",
    "            return (list(want_days),)\n",
    "    def __str__(self):\n",
    "        mstr=''\n",
    "        for item in self.stock_dict.items():\n",
    "            mstr += str(item)+'\\n'\n",
    "        return mstr\n",
    "    def __len__(self):\n",
    "        return len(self.stock_dict)\n",
    "    def __iter__(self):\n",
    "        for item in self.stock_dict.items():\n",
    "            yield item[1]\n",
    "    def __getitem__(self,index):\n",
    "        key=self.__date_array[index]\n",
    "        return self.stock_dict[key]\n",
    "        "
   ]
  },
  {
   "cell_type": "code",
   "execution_count": 66,
   "metadata": {},
   "outputs": [
    {
     "data": {
      "text/plain": [
       "['51.988',\n",
       " '47.278',\n",
       " '52.397',\n",
       " '51.748',\n",
       " '54.33',\n",
       " '48.961',\n",
       " '46.49',\n",
       " '53.559',\n",
       " '54.327',\n",
       " '53.618']"
      ]
     },
     "execution_count": 66,
     "metadata": {},
     "output_type": "execute_result"
    }
   ],
   "source": [
    "import random\n",
    "init_price=50.00\n",
    "price_array = [str(init_price+round(random.randint(-5000,5000)/1000,3))\n",
    "               for price in range(10)]\n",
    "price_array"
   ]
  },
  {
   "cell_type": "markdown",
   "metadata": {},
   "source": [
    "* 对象支持信息打印"
   ]
  },
  {
   "cell_type": "code",
   "execution_count": 67,
   "metadata": {},
   "outputs": [
    {
     "name": "stdout",
     "output_type": "stream",
     "text": [
      "('20190501', stock(date='20190501', price='51.988', change=0))\n",
      "('20190502', stock(date='20190502', price='47.278', change=-0.091))\n",
      "('20190503', stock(date='20190503', price='52.397', change=0.108))\n",
      "('20190504', stock(date='20190504', price='51.748', change=-0.012))\n",
      "('20190505', stock(date='20190505', price='54.33', change=0.05))\n",
      "('20190506', stock(date='20190506', price='48.961', change=-0.099))\n",
      "('20190507', stock(date='20190507', price='46.49', change=-0.05))\n",
      "('20190508', stock(date='20190508', price='53.559', change=0.152))\n",
      "('20190509', stock(date='20190509', price='54.327', change=0.014))\n",
      "('20190510', stock(date='20190510', price='53.618', change=-0.013))\n",
      "\n"
     ]
    }
   ],
   "source": [
    "stock_trade = StockTradeDays(price_array,20190501)\n",
    "# print(stock_trade._StockTradeDays__date_array)\n",
    "# print(stock_trade._StockTradeDays__price_array)\n",
    "# print(stock_trade._StockTradeDays__change_array)\n",
    "print(stock_trade)"
   ]
  },
  {
   "cell_type": "markdown",
   "metadata": {},
   "source": [
    "* 对象支持长度获取"
   ]
  },
  {
   "cell_type": "code",
   "execution_count": 68,
   "metadata": {},
   "outputs": [
    {
     "data": {
      "text/plain": [
       "10"
      ]
     },
     "execution_count": 68,
     "metadata": {},
     "output_type": "execute_result"
    }
   ],
   "source": [
    "len(stock_trade)"
   ]
  },
  {
   "cell_type": "markdown",
   "metadata": {},
   "source": [
    "* 对象支持迭代"
   ]
  },
  {
   "cell_type": "code",
   "execution_count": 69,
   "metadata": {},
   "outputs": [
    {
     "name": "stdout",
     "output_type": "stream",
     "text": [
      "stock(date='20190501', price='51.988', change=0)\n",
      "stock(date='20190502', price='47.278', change=-0.091)\n",
      "stock(date='20190503', price='52.397', change=0.108)\n",
      "stock(date='20190504', price='51.748', change=-0.012)\n",
      "stock(date='20190505', price='54.33', change=0.05)\n",
      "stock(date='20190506', price='48.961', change=-0.099)\n",
      "stock(date='20190507', price='46.49', change=-0.05)\n",
      "stock(date='20190508', price='53.559', change=0.152)\n",
      "stock(date='20190509', price='54.327', change=0.014)\n",
      "stock(date='20190510', price='53.618', change=-0.013)\n"
     ]
    }
   ],
   "source": [
    "for item in stock_trade:\n",
    "    print(item)"
   ]
  },
  {
   "cell_type": "markdown",
   "metadata": {},
   "source": [
    "* 对象方法的调用"
   ]
  },
  {
   "cell_type": "code",
   "execution_count": 70,
   "metadata": {},
   "outputs": [
    {
     "data": {
      "text/plain": [
       "([stock(date='20190503', price='52.397', change=0.108),\n",
       "  stock(date='20190505', price='54.33', change=0.05),\n",
       "  stock(date='20190508', price='53.559', change=0.152),\n",
       "  stock(date='20190509', price='54.327', change=0.014)],\n",
       " 0.324)"
      ]
     },
     "execution_count": 70,
     "metadata": {},
     "output_type": "execute_result"
    }
   ],
   "source": [
    "stock_trade.filter_stock(change_up=True,change_total=True)"
   ]
  },
  {
   "cell_type": "markdown",
   "metadata": {},
   "source": [
    "* 对象支持索引获取"
   ]
  },
  {
   "cell_type": "code",
   "execution_count": 75,
   "metadata": {},
   "outputs": [
    {
     "data": {
      "text/plain": [
       "-0.091"
      ]
     },
     "execution_count": 75,
     "metadata": {},
     "output_type": "execute_result"
    }
   ],
   "source": [
    "stock_trade[1].change"
   ]
  },
  {
   "cell_type": "markdown",
   "metadata": {},
   "source": [
    "### 2.3.2 继承和多态\n",
    "以下代码通过实现一个最简单的量化交易系统，来讲解继承和多态。"
   ]
  },
  {
   "cell_type": "markdown",
   "metadata": {
    "collapsed": true
   },
   "source": [
    "python中通过abc模块来实现接口或抽象类，下面编写一个量化交易策略基类："
   ]
  },
  {
   "cell_type": "code",
   "execution_count": 72,
   "metadata": {},
   "outputs": [],
   "source": [
    "import six\n",
    "from abc import ABCMeta\n",
    "from abc import abstractmethod\n",
    "class TradeStrategyBase(six.with_metaclass(ABCMeta,object)):\n",
    "    '''交易策略基础类'''\n",
    "    @abstractmethod\n",
    "    def buy_strategy(self,*args,**kwargs):\n",
    "        '''买入策略'''\n",
    "        pass\n",
    "    @abstractmethod\n",
    "    def sell_strategy(self,*args,**kwargs):\n",
    "        '''卖出策略'''\n",
    "        pass\n",
    "        "
   ]
  },
  {
   "cell_type": "markdown",
   "metadata": {},
   "source": [
    "下面编写具体的量化策略类，实现基类中的接口："
   ]
  },
  {
   "cell_type": "code",
   "execution_count": 81,
   "metadata": {},
   "outputs": [],
   "source": [
    "class TradeStrategy01(TradeStrategyBase):\n",
    "    s_keep_stock_threshold=20#计划持有的天数\n",
    "    def __init__(self):\n",
    "        self.keep_days=0#当前已经持有的天数\n",
    "        self.__buy_change_threshold=0.07#买入的涨幅阀值\n",
    "    def buy_strategy(self,trade_ind,trade_day,trade_days):\n",
    "        if self.keep_days==0 and \\\n",
    "            trade_day.change>=self.__buy_change_threshold:\n",
    "            '''\n",
    "                买入接口的调用\n",
    "                .....\n",
    "                .....\n",
    "            '''\n",
    "            self.keep_days += 1\n",
    "        elif self.keep_days>0:#大于0代表持有股票，持有天数递增\n",
    "            self.keep_days+=1\n",
    "    def sell_strategy(self,trade_ind,trade_day,trade_days):\n",
    "        if self.keep_days>=TradeStrategy01.s_keep_stock_threshold:\n",
    "            '''\n",
    "                卖出接口的调用\n",
    "                .....\n",
    "                .....\n",
    "            '''\n",
    "            self.keep_days=0"
   ]
  },
  {
   "cell_type": "markdown",
   "metadata": {},
   "source": [
    "继续编写代码，实现一个交易回测系统："
   ]
  },
  {
   "cell_type": "code",
   "execution_count": 90,
   "metadata": {},
   "outputs": [],
   "source": [
    "class TradeLoopBack(object):\n",
    "    def __init__(self,trade_data,trade_strategy):\n",
    "        self.trade_data = trade_data\n",
    "        self.trade_strategy = trade_strategy\n",
    "        self.profit_array=[]\n",
    "    def execute_trade(self):\n",
    "        for ind,day in enumerate(self.trade_data):\n",
    "            if self.trade_strategy.keep_days>0:\n",
    "                self.profit_array.append(day.change)\n",
    "            self.trade_strategy.buy_strategy(ind,\n",
    "                                             day,self.trade_data)\n",
    "            self.trade_strategy.sell_strategy(ind,\n",
    "                                              day,self.trade_data)"
   ]
  },
  {
   "cell_type": "markdown",
   "metadata": {},
   "source": [
    "使用真实数据来测试回测系统"
   ]
  },
  {
   "cell_type": "code",
   "execution_count": 87,
   "metadata": {},
   "outputs": [
    {
     "name": "stdout",
     "output_type": "stream",
     "text": [
      "504 504\n"
     ]
    }
   ],
   "source": [
    "from abupy import ABuSymbolPd\n",
    "price_array=ABuSymbolPd.make_kl_df('TSLA',n_folds=2).close.tolist()\n",
    "date_array=ABuSymbolPd.make_kl_df('TSLA',n_folds=2).date.tolist()\n",
    "print(len(price_array),len(date_array))\n",
    "class StockTradeDays(object):\n",
    "    def __init__(self,price_array,date_array):\n",
    "        self.__price_array=price_array\n",
    "        self.__date_array=date_array\n",
    "        self.__change_array=self.__init_change()\n",
    "        self.stock_dict=self.__init_stock_dict()\n",
    "    def __init_change(self):\n",
    "        pp_array=[(float(p1),float(p2)) for p1,p2 in \n",
    "                  zip(self.__price_array[0:-1],self.__price_array[1:])]\n",
    "        change_map=map(lambda pp:\n",
    "                       reduce(lambda p1,p2:round((p2-p1)/p1,3),pp)\n",
    "                       ,pp_array)\n",
    "        change_array=list(change_map)\n",
    "        change_array.insert(0,0)\n",
    "        return change_array\n",
    "    def __init_stock_dict(self):\n",
    "        n_tuple=namedtuple('stock',('date','price','change'))\n",
    "        stock_dict=OrderedDict((date,n_tuple(date,price,change))\n",
    "                               for date,price,change in\n",
    "                               zip(self.__date_array,\n",
    "                                   self.__price_array,\n",
    "                                   self.__change_array))\n",
    "        return stock_dict\n",
    "    def filter_stock(self,change_up=True,change_total=False):\n",
    "        if change_up:\n",
    "            want_days = filter(lambda item:item.change>0,\n",
    "                               self.stock_dict.values())\n",
    "        else:\n",
    "            want_days = filter(lambda item:item.change<0,\n",
    "                               self.stock_dict.values())\n",
    "        if change_total:\n",
    "            change_sum=0\n",
    "            temp=copy.deepcopy(want_days)\n",
    "            for day in temp:\n",
    "                change_sum += day.change\n",
    "            return (list(want_days),change_sum)\n",
    "        else:\n",
    "            return (list(want_days),)\n",
    "    def __str__(self):\n",
    "        mstr=''\n",
    "        for item in self.stock_dict.items():\n",
    "            mstr += str(item)+'\\n'\n",
    "        return mstr\n",
    "    def __len__(self):\n",
    "        return len(self.stock_dict)\n",
    "    def __iter__(self):\n",
    "        for item in self.stock_dict.items():\n",
    "            yield item[1]\n",
    "    def __getitem__(self,index):\n",
    "        key=self.__date_array[index]\n",
    "        return self.stock_dict[key]"
   ]
  },
  {
   "cell_type": "code",
   "execution_count": 88,
   "metadata": {},
   "outputs": [],
   "source": [
    "trade_data=StockTradeDays(price_array,date_array)"
   ]
  },
  {
   "cell_type": "code",
   "execution_count": 89,
   "metadata": {},
   "outputs": [
    {
     "data": {
      "text/plain": [
       "stock(date=20140724, price=223.54, change=0.005)"
      ]
     },
     "execution_count": 89,
     "metadata": {},
     "output_type": "execute_result"
    }
   ],
   "source": [
    "trade_data[1]"
   ]
  },
  {
   "cell_type": "code",
   "execution_count": 97,
   "metadata": {},
   "outputs": [],
   "source": [
    "trade_strategy=TradeStrategy01()\n",
    "loop_back=TradeLoopBack(trade_data,trade_strategy)"
   ]
  },
  {
   "cell_type": "code",
   "execution_count": 95,
   "metadata": {},
   "outputs": [],
   "source": [
    "loop_back.execute_trade()"
   ]
  },
  {
   "cell_type": "code",
   "execution_count": 100,
   "metadata": {},
   "outputs": [
    {
     "ename": "TypeError",
     "evalue": "reduce() of empty sequence with no initial value",
     "output_type": "error",
     "traceback": [
      "\u001b[1;31m--------------------------------------------------------------------------\u001b[0m",
      "\u001b[1;31mTypeError\u001b[0m                                Traceback (most recent call last)",
      "\u001b[1;32m<ipython-input-100-34b8be640bea>\u001b[0m in \u001b[0;36m<module>\u001b[1;34m\u001b[0m\n\u001b[0;32m      1\u001b[0m \u001b[1;31m#总盈亏\u001b[0m\u001b[1;33m\u001b[0m\u001b[1;33m\u001b[0m\u001b[1;33m\u001b[0m\u001b[0m\n\u001b[0;32m      2\u001b[0m print('策略1 总盈亏:{}%'.format(\n\u001b[1;32m----> 3\u001b[1;33m     list(reduce(lambda a,b:a+b,loop_back.profit_array)*100)))\n\u001b[0m",
      "\u001b[1;31mTypeError\u001b[0m: reduce() of empty sequence with no initial value"
     ]
    }
   ],
   "source": [
    "#总盈亏\n",
    "ret=reduce(lambda a,b:a+b,loop_back.profit_array)\n",
    "print('策略1 总盈亏:'+str(ret*100)+'%')"
   ]
  },
  {
   "cell_type": "markdown",
   "metadata": {},
   "source": [
    "将结果用图形显示"
   ]
  },
  {
   "cell_type": "code",
   "execution_count": null,
   "metadata": {},
   "outputs": [],
   "source": []
  },
  {
   "cell_type": "markdown",
   "metadata": {},
   "source": [
    "### 2.3.3 静态方法，类方法与property属性"
   ]
  },
  {
   "cell_type": "markdown",
   "metadata": {},
   "source": [
    "#### 1. property属性\n",
    "property属性是对getter和setter方法的再次封装，可以使程序变得更加简洁。"
   ]
  },
  {
   "cell_type": "code",
   "execution_count": null,
   "metadata": {},
   "outputs": [],
   "source": []
  },
  {
   "cell_type": "markdown",
   "metadata": {},
   "source": [
    "#### 2. 静态方法和类方法"
   ]
  },
  {
   "cell_type": "code",
   "execution_count": null,
   "metadata": {},
   "outputs": [],
   "source": []
  },
  {
   "cell_type": "markdown",
   "metadata": {},
   "source": [
    "## 2.4 性能效率"
   ]
  },
  {
   "cell_type": "markdown",
   "metadata": {},
   "source": [
    "##  2.4.1 itertools的使用\n",
    "标准库中的itertools提供了很多生成循环器的工具，其中很重要的用途是生成集合中所有可能方式的元素排列或组合。量化出具处理中经常需要通过这些方式寻找最优参数。\n",
    "\n",
    "导入模块"
   ]
  },
  {
   "cell_type": "code",
   "execution_count": 8,
   "metadata": {
    "collapsed": true
   },
   "outputs": [],
   "source": [
    "import itertools"
   ]
  },
  {
   "cell_type": "markdown",
   "metadata": {},
   "source": [
    "（1）permutations()函数，考虑顺序组合元素"
   ]
  },
  {
   "cell_type": "code",
   "execution_count": null,
   "metadata": {},
   "outputs": [],
   "source": []
  },
  {
   "cell_type": "markdown",
   "metadata": {},
   "source": [
    "（2）combinations()函数，不考虑顺序，不放回数据"
   ]
  },
  {
   "cell_type": "code",
   "execution_count": null,
   "metadata": {},
   "outputs": [],
   "source": []
  },
  {
   "cell_type": "markdown",
   "metadata": {},
   "source": [
    "（3）combinations_with_raplacement()函数，不考虑顺序，有放回数据"
   ]
  },
  {
   "cell_type": "code",
   "execution_count": null,
   "metadata": {},
   "outputs": [],
   "source": []
  },
  {
   "cell_type": "markdown",
   "metadata": {},
   "source": [
    "（4）product()函数，笛卡尔积"
   ]
  },
  {
   "cell_type": "code",
   "execution_count": null,
   "metadata": {},
   "outputs": [],
   "source": []
  },
  {
   "cell_type": "markdown",
   "metadata": {},
   "source": [
    "#### 使用笛卡尔积求解最优参数\n",
    "抽象一个函数calc(),该函数输入参数有2个，分别是持股天数和下跌买入阀值；输出返回3个值，分别是盈亏情况和2个输入值。"
   ]
  },
  {
   "cell_type": "code",
   "execution_count": null,
   "metadata": {},
   "outputs": [],
   "source": []
  },
  {
   "cell_type": "markdown",
   "metadata": {},
   "source": [
    "##  2.4.2 多进程 vs 多线程\n",
    "真实的回测中，不但计算复杂，I/O繁多，且回测本身的复杂度也很高。\n",
    "\n",
    "针对上面的问题，一般使用多任务并发/并行的方式来解决。有如下几种方式：\n",
    "* 启动多个进程\n",
    "* 启动多个线程\n",
    "* 启动多个进程，在每个进程内部启动多个线程\n",
    "使用哪种方式最好呢？\n",
    "\n",
    "由于全局解释锁GIL，python的线程被限制为同一时刻只允许一个线程被执行，即是<b>并发</b>，所以在python中<b>多线程</b>适用于处理<b>I/O密集型任务</b>和并发执行的阻塞任务，<b>多进程</b>处理<b>并行</b>的<b>计算密集型任务</b>。\n",
    "\n",
    "#### 上下文管理器：\n",
    "<pre>\n",
    "with A_Class() as a:\n",
    "    do something\n",
    "</pre>\n",
    "这样的代码块，使用with关键字开头，在python中称为上下文管理器，他的特点是：\n",
    "* 在进入上下文管理器缩进范围内的代码块后，会触发A_Class中定义的<b>\\_\\_enter__()</b>函数\n",
    "* 在结束上下文管理器缩进范围内的代码块后，会触发A_Class中定义的<b>\\_\\_exit__()</b>函数\n",
    "\n",
    "一般在enter和exit中定义相反的操作，如文件的打开和关闭，资源的创建和释放等。"
   ]
  },
  {
   "cell_type": "markdown",
   "metadata": {
    "collapsed": true
   },
   "source": [
    "#### 1. 使用多进程"
   ]
  },
  {
   "cell_type": "code",
   "execution_count": 1,
   "metadata": {},
   "outputs": [],
   "source": [
    "#在notebook中使用多进程是有bug的，这里的代码转接到pycharm中。"
   ]
  },
  {
   "cell_type": "markdown",
   "metadata": {},
   "source": [
    "#### 2. 使用多线程"
   ]
  },
  {
   "cell_type": "code",
   "execution_count": null,
   "metadata": {},
   "outputs": [],
   "source": []
  },
  {
   "cell_type": "markdown",
   "metadata": {},
   "source": [
    "##  2.4.3 使用编译库提高性能\n",
    "除了前面多任务机制来提升性能外，还有一些很棒的开源库可以提高性能。比如：\n",
    "* Numexpr 可以快速计算数只，缺点是局限性大\n",
    "* numba 运行时动态编译python代码来提高效率\n",
    "* Cpython 静态编译python代码来提高效率\n",
    "\n",
    "下面示例一个使用numba来提升性能的例子："
   ]
  },
  {
   "cell_type": "code",
   "execution_count": 2,
   "metadata": {},
   "outputs": [],
   "source": [
    "#不使用numba"
   ]
  },
  {
   "cell_type": "code",
   "execution_count": 4,
   "metadata": {},
   "outputs": [],
   "source": [
    "#使用numba"
   ]
  },
  {
   "cell_type": "code",
   "execution_count": null,
   "metadata": {},
   "outputs": [],
   "source": []
  }
 ],
 "metadata": {
  "anaconda-cloud": {},
  "kernelspec": {
   "display_name": "Python 3",
   "language": "python",
   "name": "python3"
  },
  "language_info": {
   "codemirror_mode": {
    "name": "ipython",
    "version": 3
   },
   "file_extension": ".py",
   "mimetype": "text/x-python",
   "name": "python",
   "nbconvert_exporter": "python",
   "pygments_lexer": "ipython3",
   "version": "3.7.3"
  }
 },
 "nbformat": 4,
 "nbformat_minor": 1
}
