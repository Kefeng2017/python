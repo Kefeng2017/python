{
 "cells": [
  {
   "cell_type": "code",
   "execution_count": 1,
   "metadata": {},
   "outputs": [
    {
     "name": "stdout",
     "output_type": "stream",
     "text": [
      "['123.12', '232.12', '456.23']\n"
     ]
    }
   ],
   "source": [
    "import re\n",
    "\n",
    "str = '123.12,232.12,456.23'\n",
    "arr = str.split(',')\n",
    "print(arr)"
   ]
  },
  {
   "cell_type": "code",
   "execution_count": 2,
   "metadata": {},
   "outputs": [
    {
     "name": "stdout",
     "output_type": "stream",
     "text": [
      "123.12\n",
      "232.12\n",
      "456.23\n",
      "[123.12, 232.12, 456.23]\n"
     ]
    }
   ],
   "source": [
    "price_list = []\n",
    "for item in arr:\n",
    "    price_list.append(float(item))\n",
    "    print(float(item))\n",
    "    \n",
    "print(price_list)    "
   ]
  },
  {
   "cell_type": "code",
   "execution_count": 3,
   "metadata": {},
   "outputs": [
    {
     "data": {
      "text/plain": [
       "[123.12, 232.12, 456.23, 123]"
      ]
     },
     "execution_count": 3,
     "metadata": {},
     "output_type": "execute_result"
    }
   ],
   "source": [
    "price_list.append(123)\n",
    "price_list"
   ]
  },
  {
   "cell_type": "code",
   "execution_count": 4,
   "metadata": {
    "scrolled": true
   },
   "outputs": [
    {
     "data": {
      "text/plain": [
       "[123.12, 232.12, 456.23, 123, 1, 2, 3]"
      ]
     },
     "execution_count": 4,
     "metadata": {},
     "output_type": "execute_result"
    }
   ],
   "source": [
    "price_list.extend([1,2,3])\n",
    "price_list"
   ]
  },
  {
   "cell_type": "code",
   "execution_count": 5,
   "metadata": {},
   "outputs": [
    {
     "data": {
      "text/plain": [
       "3"
      ]
     },
     "execution_count": 5,
     "metadata": {},
     "output_type": "execute_result"
    }
   ],
   "source": [
    "price_list.pop()\n"
   ]
  },
  {
   "cell_type": "code",
   "execution_count": 6,
   "metadata": {},
   "outputs": [
    {
     "data": {
      "text/plain": [
       "[123.12, 232.12, 456.23, 123, 1, 2]"
      ]
     },
     "execution_count": 6,
     "metadata": {},
     "output_type": "execute_result"
    }
   ],
   "source": [
    "price_list"
   ]
  },
  {
   "cell_type": "code",
   "execution_count": 7,
   "metadata": {},
   "outputs": [],
   "source": [
    "price_list.remove(123)"
   ]
  },
  {
   "cell_type": "code",
   "execution_count": 8,
   "metadata": {},
   "outputs": [
    {
     "data": {
      "text/plain": [
       "[123.12, 232.12, 456.23, 1, 2]"
      ]
     },
     "execution_count": 8,
     "metadata": {},
     "output_type": "execute_result"
    }
   ],
   "source": [
    "price_list"
   ]
  },
  {
   "cell_type": "code",
   "execution_count": 9,
   "metadata": {},
   "outputs": [],
   "source": [
    "### 修改"
   ]
  },
  {
   "cell_type": "code",
   "execution_count": 10,
   "metadata": {},
   "outputs": [],
   "source": [
    "price_list[-1] = 1234455"
   ]
  },
  {
   "cell_type": "code",
   "execution_count": 11,
   "metadata": {},
   "outputs": [
    {
     "data": {
      "text/plain": [
       "[123.12, 232.12, 456.23, 1, 1234455]"
      ]
     },
     "execution_count": 11,
     "metadata": {},
     "output_type": "execute_result"
    }
   ],
   "source": [
    "price_list"
   ]
  },
  {
   "cell_type": "code",
   "execution_count": 12,
   "metadata": {},
   "outputs": [
    {
     "data": {
      "text/plain": [
       "[1, 2, 3, 4, 5, 6, 7, 8, 9, 10, 11, 12, 13, 14, 15, 16, 17, 18, 19, 20]"
      ]
     },
     "execution_count": 12,
     "metadata": {},
     "output_type": "execute_result"
    }
   ],
   "source": [
    "[i+1 for i in range(0,20)]"
   ]
  },
  {
   "cell_type": "code",
   "execution_count": 13,
   "metadata": {},
   "outputs": [
    {
     "data": {
      "text/plain": [
       "[(1, 2, 3), (4, 5, 6), (7, 8, 9), (10, 11, 12), (13, 14, 15), (16, 17, 18)]"
      ]
     },
     "execution_count": 13,
     "metadata": {},
     "output_type": "execute_result"
    }
   ],
   "source": [
    "[(i+1,i+2,i+3) for i in range(0,18,3)]"
   ]
  },
  {
   "cell_type": "code",
   "execution_count": 14,
   "metadata": {},
   "outputs": [
    {
     "data": {
      "text/plain": [
       "['123.12', '232.12', '456.23']"
      ]
     },
     "execution_count": 14,
     "metadata": {},
     "output_type": "execute_result"
    }
   ],
   "source": [
    "arr"
   ]
  },
  {
   "cell_type": "code",
   "execution_count": 15,
   "metadata": {},
   "outputs": [
    {
     "ename": "NameError",
     "evalue": "name 'date_list' is not defined",
     "output_type": "error",
     "traceback": [
      "\u001b[0;31m---------------------------------------------------------------------------\u001b[0m",
      "\u001b[0;31mNameError\u001b[0m                                 Traceback (most recent call last)",
      "\u001b[0;32m<ipython-input-15-e5f2493d3efe>\u001b[0m in \u001b[0;36m<module>\u001b[0;34m\u001b[0m\n\u001b[1;32m      1\u001b[0m \u001b[0;32mfrom\u001b[0m \u001b[0mcollections\u001b[0m \u001b[0;32mimport\u001b[0m \u001b[0mnamedtuple\u001b[0m\u001b[0;34m\u001b[0m\u001b[0;34m\u001b[0m\u001b[0m\n\u001b[1;32m      2\u001b[0m \u001b[0mstock_tuple\u001b[0m \u001b[0;34m=\u001b[0m \u001b[0mnamedtuple\u001b[0m\u001b[0;34m(\u001b[0m\u001b[0;34m'stock'\u001b[0m\u001b[0;34m,\u001b[0m\u001b[0;34m(\u001b[0m\u001b[0;34m'date'\u001b[0m\u001b[0;34m,\u001b[0m\u001b[0;34m'price'\u001b[0m\u001b[0;34m)\u001b[0m\u001b[0;34m)\u001b[0m\u001b[0;34m\u001b[0m\u001b[0;34m\u001b[0m\u001b[0m\n\u001b[0;32m----> 3\u001b[0;31m \u001b[0mstock_named_tuple\u001b[0m \u001b[0;34m=\u001b[0m \u001b[0;34m[\u001b[0m\u001b[0mstock_tuple\u001b[0m\u001b[0;34m(\u001b[0m\u001b[0mdate_list\u001b[0m\u001b[0;34m,\u001b[0m\u001b[0marr\u001b[0m\u001b[0;34m)\u001b[0m \u001b[0;32mfor\u001b[0m \u001b[0mdate_list\u001b[0m\u001b[0;34m,\u001b[0m\u001b[0marr\u001b[0m \u001b[0;32min\u001b[0m \u001b[0mzip\u001b[0m\u001b[0;34m(\u001b[0m\u001b[0mdate_list\u001b[0m\u001b[0;34m,\u001b[0m\u001b[0marr\u001b[0m\u001b[0;34m)\u001b[0m  \u001b[0;34m]\u001b[0m\u001b[0;34m\u001b[0m\u001b[0;34m\u001b[0m\u001b[0m\n\u001b[0m\u001b[1;32m      4\u001b[0m \u001b[0mstock_named_tuple\u001b[0m\u001b[0;34m\u001b[0m\u001b[0;34m\u001b[0m\u001b[0m\n",
      "\u001b[0;31mNameError\u001b[0m: name 'date_list' is not defined"
     ]
    }
   ],
   "source": [
    "from collections import namedtuple\n",
    "stock_tuple = namedtuple('stock',('date','price'))\n",
    "stock_named_tuple = [stock_tuple(date_list,arr) for date_list,arr in zip(date_list,arr)  ]\n",
    "stock_named_tuple"
   ]
  },
  {
   "cell_type": "code",
   "execution_count": null,
   "metadata": {},
   "outputs": [],
   "source": [
    "from collections import OrderedDict\n",
    "stock_dict = OrderedDict((date,stock_tuple(date,price)) for date,price in zip(date_list,arr))\n",
    "stock_dict"
   ]
  },
  {
   "cell_type": "code",
   "execution_count": null,
   "metadata": {},
   "outputs": [],
   "source": [
    "stock_dict.keys()"
   ]
  },
  {
   "cell_type": "markdown",
   "metadata": {},
   "source": [
    "## 高阶函数\n",
    "- map()\n",
    "- filter()\n",
    "- reduce()"
   ]
  },
  {
   "cell_type": "code",
   "execution_count": null,
   "metadata": {},
   "outputs": [],
   "source": [
    "#map()\n",
    "arr"
   ]
  },
  {
   "cell_type": "code",
   "execution_count": null,
   "metadata": {},
   "outputs": [],
   "source": [
    "ret = (i for i in range(10))\n",
    "ret"
   ]
  },
  {
   "cell_type": "code",
   "execution_count": null,
   "metadata": {},
   "outputs": [],
   "source": [
    "ret = map(lambda item:str(item.price/50*100)+'%',stock_dict.values())\n",
    "ret "
   ]
  },
  {
   "cell_type": "code",
   "execution_count": null,
   "metadata": {},
   "outputs": [],
   "source": [
    "for i in ret:\n",
    "    print(i,end=\" \")"
   ]
  },
  {
   "cell_type": "code",
   "execution_count": null,
   "metadata": {},
   "outputs": [],
   "source": [
    "## reduce\n",
    "result = reduce(lambda x,y:x+y,[1,2343,4,5,3,2])\n",
    "result"
   ]
  },
  {
   "cell_type": "code",
   "execution_count": null,
   "metadata": {},
   "outputs": [],
   "source": [
    "stock_dict"
   ]
  },
  {
   "cell_type": "code",
   "execution_count": null,
   "metadata": {},
   "outputs": [],
   "source": [
    "price"
   ]
  },
  {
   "cell_type": "code",
   "execution_count": null,
   "metadata": {},
   "outputs": [],
   "source": [
    "price_list"
   ]
  },
  {
   "cell_type": "code",
   "execution_count": null,
   "metadata": {},
   "outputs": [],
   "source": [
    "arr.pop()"
   ]
  },
  {
   "cell_type": "code",
   "execution_count": null,
   "metadata": {},
   "outputs": [],
   "source": [
    "pp_list = [(d1,d2) for d1,d2 in zip(arr[:-1],arr[1:])]\n",
    "pp_list"
   ]
  },
  {
   "cell_type": "code",
   "execution_count": null,
   "metadata": {},
   "outputs": [],
   "source": [
    "from functools import reduce\n",
    "change_list = map(lambda pp:reduce(lambda d1,d2:round((d2-d1)/d1,3),pp),pp_list)\n",
    "change_list"
   ]
  },
  {
   "cell_type": "code",
   "execution_count": null,
   "metadata": {},
   "outputs": [],
   "source": [
    "for i in change:\n",
    "    print(i,end=\" \")"
   ]
  },
  {
   "cell_type": "code",
   "execution_count": null,
   "metadata": {},
   "outputs": [],
   "source": [
    "from collections import namedtuple\n",
    "from collections import OrderedDict\n",
    "stock_tuple = namedtuple('stock',('date','price','change'))\n",
    "stock_dict = OrderedDict((date,stock_tuple(date,price,change)) for date,price,change in zip(date_list,arr,change_list))\n",
    "stock_dict"
   ]
  },
  {
   "cell_type": "code",
   "execution_count": null,
   "metadata": {
    "scrolled": true
   },
   "outputs": [],
   "source": [
    "def filter_stock(stock_dict,want_up,want_sum):\n",
    "    if want_up:\n",
    "        result = map(lambda item:item.change>0,stock_dict.values())\n",
    "    else:\n",
    "        result = map(lambda item:item.change<0,stock_dict.values())\n",
    "    if want_sum:\n",
    "        sum =0\n",
    "        for i in stock_dict.values():\n",
    "            sum += i.change\n",
    "    print([result])\n",
    "    print(sum)\n",
    "    return (result,sum)\n",
    "\n",
    "filter_stock(stock_dict,True,True)"
   ]
  },
  {
   "cell_type": "markdown",
   "metadata": {},
   "source": [
    "## 偏函数"
   ]
  },
  {
   "cell_type": "code",
   "execution_count": null,
   "metadata": {
    "scrolled": false
   },
   "outputs": [],
   "source": [
    "from functools import partial\n",
    "def f(x,a,b):\n",
    "    return x+a+b\n",
    "\n",
    "par = partial(f,a=0,b=1)\n",
    "\n",
    "par(5)"
   ]
  },
  {
   "cell_type": "markdown",
   "metadata": {},
   "source": [
    "## 面向对象"
   ]
  },
  {
   "cell_type": "code",
   "execution_count": null,
   "metadata": {},
   "outputs": [],
   "source": [
    "class Person():\n",
    "    def __init__(self,name):\n",
    "        self.name = name\n",
    "        self.__age = 0\n",
    "        \n",
    "    def get_age(self):\n",
    "        return self.__age\n",
    "    \n",
    "    def set_age(self,age):\n",
    "        if age<=0:\n",
    "            self.__age = 18\n",
    "        else:\n",
    "            self.__age = age\n",
    "        \n",
    "p = Person('kalisi')\n",
    "p.get_age()"
   ]
  },
  {
   "cell_type": "code",
   "execution_count": null,
   "metadata": {},
   "outputs": [],
   "source": [
    "p.set_age(24)"
   ]
  },
  {
   "cell_type": "code",
   "execution_count": null,
   "metadata": {},
   "outputs": [],
   "source": [
    "p.get_age()"
   ]
  },
  {
   "cell_type": "code",
   "execution_count": null,
   "metadata": {},
   "outputs": [],
   "source": [
    "p.set_age(-12)\n",
    "p.get_age()"
   ]
  },
  {
   "cell_type": "code",
   "execution_count": null,
   "metadata": {},
   "outputs": [],
   "source": [
    "## 编写一个类来封装股票交易的数据\n"
   ]
  },
  {
   "cell_type": "code",
   "execution_count": null,
   "metadata": {
    "scrolled": true
   },
   "outputs": [],
   "source": [
    "class StockTradeDays(object):\n",
    "    def __init__(self,price_arr,start_day):\n",
    "        date_arr = self.initDate(price_arr,start_day)\n",
    "        print(\"date_arr:\",date_arr)\n",
    "        change_arr = self.initChange(price_arr)\n",
    "        print(\"change_arr:\",change_arr)\n",
    "        #self.change_list = change_arr\n",
    "        self.stock_dict = self.createDict(price_arr,date_arr,change_arr)\n",
    "    \n",
    "    ## 日期列表初始化\n",
    "    def initDate(self,price_arr,start_day):\n",
    "        date_list = [start_day for i,item in enumerate(price_arr)]\n",
    "        return date_list\n",
    "    \n",
    "    ## 增长率数据初始化\n",
    "    def initChange(self,price_arr):\n",
    "        pp_list = [(d1,d2) for d1,d2 in zip(price_arr[:-1],price_arr[1:])]\n",
    "        print(\"pplist:\",pp_list)\n",
    "        change_map = map(lambda item:round((item[1]-item[0])/item[0],3),pp_list)\n",
    "        #change_map = map(lambda item:item[0],pp_list)\n",
    "        change_list = list(change_map)\n",
    "        change_list.insert(0,0.0)\n",
    "        return change_list\n",
    "    \n",
    "    ## 数据字典初始化\n",
    "    def createDict(self,price_arr,date_arr,change_arr):\n",
    "        stock_tuple = namedtuple('stock',('price','date','change'))\n",
    "        stock_dict = [stock_tuple(price,date,change) for price,date,change in zip(price_arr,date_arr,change_arr)]\n",
    "        return stock_dict\n",
    "    \n",
    "    ## 对象支持字符串输出\n",
    "    def __str__(self):\n",
    "        list = self.stock_dict.items()\n",
    "        result = ''\n",
    "        for i in list:\n",
    "            result+='KEY:%s,VALUE:%s'%(list[0],list[1])\n",
    "        return result\n",
    "        \n",
    "    ## 对象支持长度输出\n",
    "    def __len__(self):\n",
    "        return len(self.stock_dict)\n",
    "    \n",
    "    ## 对象支持迭代\n",
    "    def __iter__(self):\n",
    "        for i in self.stock_dict.items():\n",
    "            yield(i)\n",
    "        \n",
    "    \n",
    "    ## 支持下标索引\n",
    "    def __getitem__(self,ind):\n",
    "        key_list = list(self.stock_dict.keys())\n",
    "        return self.stock_dict[key_list[ind]]\n",
    "    \n",
    "    \n",
    "price_arr = [12.3,34.2,43.2,13.2,76.9,67.8,34.2]\n",
    "stock = StockTradeDays(price_arr,'201907')\n"
   ]
  },
  {
   "cell_type": "code",
   "execution_count": null,
   "metadata": {},
   "outputs": [],
   "source": [
    "print(stock.stock_dict)"
   ]
  },
  {
   "cell_type": "code",
   "execution_count": null,
   "metadata": {},
   "outputs": [],
   "source": []
  },
  {
   "cell_type": "code",
   "execution_count": null,
   "metadata": {},
   "outputs": [],
   "source": []
  },
  {
   "cell_type": "code",
   "execution_count": null,
   "metadata": {},
   "outputs": [],
   "source": []
  },
  {
   "cell_type": "code",
   "execution_count": null,
   "metadata": {},
   "outputs": [],
   "source": []
  }
 ],
 "metadata": {
  "kernelspec": {
   "display_name": "Python 3",
   "language": "python",
   "name": "python3"
  },
  "language_info": {
   "codemirror_mode": {
    "name": "ipython",
    "version": 3
   },
   "file_extension": ".py",
   "mimetype": "text/x-python",
   "name": "python",
   "nbconvert_exporter": "python",
   "pygments_lexer": "ipython3",
   "version": "3.7.1"
  }
 },
 "nbformat": 4,
 "nbformat_minor": 2
}
