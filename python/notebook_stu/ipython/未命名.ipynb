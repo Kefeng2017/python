{
 "cells": [
  {
   "cell_type": "code",
   "execution_count": 10,
   "metadata": {},
   "outputs": [
    {
     "name": "stdout",
     "output_type": "stream",
     "text": [
      "date_arr: ['2019070', '2019071', '2019072', '2019073', '2019074', '2019075', '2019076']\n",
      "pplist: [(12.3, 34.2), (34.2, 43.2), (43.2, 13.2), (13.2, 76.9), (76.9, 67.8), (67.8, 34.2)]\n",
      "change_arr: [0.0, 1.78, 0.263, -0.694, 4.826, -0.118, -0.496]\n"
     ]
    },
    {
     "data": {
      "text/plain": [
       "[('2019071', stock(price=34.2, date='2019071', change=1.78)),\n",
       " ('2019072', stock(price=43.2, date='2019072', change=0.263)),\n",
       " ('2019074', stock(price=76.9, date='2019074', change=4.826))]"
      ]
     },
     "execution_count": 10,
     "metadata": {},
     "output_type": "execute_result"
    }
   ],
   "source": [
    "from collections import namedtuple\n",
    "from __future__ import print_function\n",
    "# 使用本地的abu\n",
    "import os\n",
    "import sys\n",
    "# 使用insert 0即只使用外部的abupy，避免交叉使用了pip安装的abupy，导致的版本不一致问题\n",
    "sys.path.insert(0, os.path.abspath('../'))\n",
    "import abupy\n",
    "from abupy import six, xrange, range, reduce, map, filter, partial\n",
    "# 使用沙盒数据\n",
    "abupy.env.enable_example_env_ipython()\n",
    "\n",
    "\n",
    "class StockTradeDays(object):\n",
    "    def __init__(self,price_arr,start_day):\n",
    "        date_arr = self.initDate(price_arr,start_day)\n",
    "        print(\"date_arr:\",date_arr)\n",
    "        change_arr = self.initChange(price_arr)\n",
    "        print(\"change_arr:\",change_arr)\n",
    "        #self.change_list = change_arr\n",
    "        self.stock_dict = self.createDict(price_arr,date_arr,change_arr)\n",
    "    \n",
    "    ## 日期列表初始化\n",
    "    def initDate(self,price_arr,start_day):\n",
    "        date_list = [start_day+str(i) for i,item in enumerate(price_arr)]\n",
    "        return date_list\n",
    "    \n",
    "    ## 增长率数据初始化\n",
    "    def initChange(self,price_arr):\n",
    "        pp_list = [(d1,d2) for d1,d2 in zip(price_arr[:-1],price_arr[1:])]\n",
    "        print(\"pplist:\",pp_list)\n",
    "        change_map = map(lambda item:round((item[1]-item[0])/item[0],3),pp_list)\n",
    "        #change_map = map(lambda item:item[0],pp_list)\n",
    "        change_list = list(change_map)\n",
    "        change_list.insert(0,0.0)\n",
    "        return change_list\n",
    "    \n",
    "    ## 数据字典初始化\n",
    "    def createDict(self,price_arr,date_arr,change_arr):\n",
    "        stock_tuple = namedtuple('stock',('price','date','change'))\n",
    "        stock_dict = [(date,stock_tuple(price,date,change)) for price,date,change in zip(price_arr,date_arr,change_arr)]\n",
    "        return stock_dict\n",
    "    \n",
    "    ## 对象支持字符串输出\n",
    "    def __str__(self):\n",
    "        info=''\n",
    "        for item in self.stock_dict.items():\n",
    "            info+='KEY: %s\\tVALUE: %s\\n'%(str(item[0]),str(item[1]))\n",
    "        return info\n",
    "        \n",
    "    ## 对象支持长度输出\n",
    "    def __len__(self):\n",
    "        return len(self.stock_dict)\n",
    "    \n",
    "    ## 对象支持迭代\n",
    "    def __iter__(self):\n",
    "        for i in self.stock_dict.items():\n",
    "            yield(i)\n",
    "        \n",
    "    \n",
    "    ## 支持下标索引\n",
    "    def __getitem__(self,ind):\n",
    "        key_list = list(self.stock_dict.keys())\n",
    "        return self.stock_dict[key_list[ind]]\n",
    "    \n",
    "    ## 功能函数\n",
    "    def filter_stock(self,want_up=True,want_sum=False):\n",
    "        if want_up:\n",
    "            map = filter(lambda x:x[1].change>0,self.stock_dict)\n",
    "        else:\n",
    "            map = filter(lambda x:x[1].change<0,self.stock_dict)\n",
    "        \n",
    "        if want_sum:\n",
    "            sum = 0;\n",
    "            for i in map:\n",
    "                sum += i.change\n",
    "            return (list(map),sum)\n",
    "        else:\n",
    "            return (list(map))\n",
    "    \n",
    "price_arr = [12.3,34.2,43.2,13.2,76.9,67.8,34.2]\n",
    "stock = StockTradeDays(price_arr,'201907')\n",
    "# print(stock.stock_dict)\n",
    "\n",
    "stock.filter_stock(want_up=True,want_sum=False)\n",
    "\n"
   ]
  },
  {
   "cell_type": "code",
   "execution_count": 7,
   "metadata": {},
   "outputs": [
    {
     "data": {
      "text/plain": [
       "('2019070', stock(price=12.3, date='2019070', change=0.0))"
      ]
     },
     "execution_count": 7,
     "metadata": {},
     "output_type": "execute_result"
    }
   ],
   "source": [
    "stock.stock_dict[0]"
   ]
  },
  {
   "cell_type": "code",
   "execution_count": 11,
   "metadata": {},
   "outputs": [
    {
     "ename": "ModuleNotFoundError",
     "evalue": "No module named 'abupy'",
     "output_type": "error",
     "traceback": [
      "\u001b[0;31m---------------------------------------------------------------------------\u001b[0m",
      "\u001b[0;31mModuleNotFoundError\u001b[0m                       Traceback (most recent call last)",
      "\u001b[0;32m<ipython-input-11-d8ad5f31ab16>\u001b[0m in \u001b[0;36m<module>\u001b[0;34m\u001b[0m\n\u001b[0;32m----> 1\u001b[0;31m \u001b[0;32mfrom\u001b[0m \u001b[0mabupy\u001b[0m \u001b[0;32mimport\u001b[0m \u001b[0mABuSymbolPd\u001b[0m\u001b[0;34m\u001b[0m\u001b[0;34m\u001b[0m\u001b[0m\n\u001b[0m\u001b[1;32m      2\u001b[0m \u001b[0mtsla_df\u001b[0m\u001b[0;34m=\u001b[0m\u001b[0mABuSymbolPd\u001b[0m\u001b[0;34m.\u001b[0m\u001b[0mmake_kl_df\u001b[0m\u001b[0;34m(\u001b[0m\u001b[0;34m\"TSLA\"\u001b[0m\u001b[0;34m,\u001b[0m\u001b[0mn_folds\u001b[0m\u001b[0;34m=\u001b[0m\u001b[0;36m2\u001b[0m\u001b[0;34m)\u001b[0m\u001b[0;34m\u001b[0m\u001b[0;34m\u001b[0m\u001b[0m\n",
      "\u001b[0;31mModuleNotFoundError\u001b[0m: No module named 'abupy'"
     ]
    }
   ],
   "source": [
    "from abupy import ABuSymbolPd\n",
    "tsla_df=ABuSymbolPd.make_kl_df(\"TSLA\",n_folds=2)"
   ]
  },
  {
   "cell_type": "code",
   "execution_count": null,
   "metadata": {},
   "outputs": [],
   "source": []
  }
 ],
 "metadata": {
  "kernelspec": {
   "display_name": "Python 3",
   "language": "python",
   "name": "python3"
  },
  "language_info": {
   "codemirror_mode": {
    "name": "ipython",
    "version": 3
   },
   "file_extension": ".py",
   "mimetype": "text/x-python",
   "name": "python",
   "nbconvert_exporter": "python",
   "pygments_lexer": "ipython3",
   "version": "3.7.1"
  }
 },
 "nbformat": 4,
 "nbformat_minor": 2
}
