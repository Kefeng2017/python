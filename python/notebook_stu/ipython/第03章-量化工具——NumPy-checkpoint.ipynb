{
 "cells": [
  {
   "cell_type": "markdown",
   "metadata": {},
   "source": [
    "### 基础模块的导入"
   ]
  },
  {
   "cell_type": "code",
   "execution_count": 2,
   "metadata": {},
   "outputs": [
    {
     "name": "stderr",
     "output_type": "stream",
     "text": [
      "enable example env will only read RomDataBu/csv\n"
     ]
    }
   ],
   "source": [
    "from __future__ import print_function\n",
    "\n",
    "import os\n",
    "import sys\n",
    "# 使用insert 0即只使用github，避免交叉使用了pip安装的abupy，导致的版本不一致问题\n",
    "sys.path.insert(0, os.path.abspath('../'))\n",
    "import abupy\n",
    "# 使用沙盒数据\n",
    "abupy.env.enable_example_env_ipython()\n",
    "\n",
    "import seaborn as sns\n",
    "import matplotlib.pyplot as plt\n",
    "%matplotlib inline\n",
    "plt.rcParams['figure.figsize'] = (10.0, 8.0)"
   ]
  },
  {
   "cell_type": "code",
   "execution_count": 3,
   "metadata": {},
   "outputs": [
    {
     "name": "stdout",
     "output_type": "stream",
     "text": [
      "3.7.3 (v3.7.3:ef4ec6ed12, Mar 25 2019, 22:22:05) [MSC v.1916 64 bit (AMD64)]\n"
     ]
    }
   ],
   "source": [
    "print(sys.version)"
   ]
  },
  {
   "cell_type": "markdown",
   "metadata": {},
   "source": [
    "# 第3章 量化工具-Numpy\n",
    "\n",
    "[<h1>极客营</h1>](http://igeekhome.com) \n",
    "numpy是python很多科学计算和工程库的基础库，在量化数据分析中最常使用pandas也是基于numpy的封装。"
   ]
  },
  {
   "cell_type": "markdown",
   "metadata": {},
   "source": [
    "## 3.1 并行化思想与基础操作\n",
    "习惯以及推引用numpy的方式如下："
   ]
  },
  {
   "cell_type": "code",
   "execution_count": 4,
   "metadata": {},
   "outputs": [],
   "source": [
    "import numpy as np"
   ]
  },
  {
   "cell_type": "markdown",
   "metadata": {},
   "source": [
    "### 3.1.1  并行化思想\n",
    "首先我们先看一下，构建10000个元素的普通列表，循环求解里面每一个元素的平方，使用%timeit看看执行效率"
   ]
  },
  {
   "cell_type": "code",
   "execution_count": 5,
   "metadata": {},
   "outputs": [
    {
     "name": "stdout",
     "output_type": "stream",
     "text": [
      "7.67 ms ± 510 µs per loop (mean ± std. dev. of 7 runs, 100 loops each)\n"
     ]
    }
   ],
   "source": [
    "%timeit [i**2 for i in range(10000)]"
   ]
  },
  {
   "cell_type": "markdown",
   "metadata": {},
   "source": [
    "我们再看看，使用np.arange()构建数组的执行效率"
   ]
  },
  {
   "cell_type": "code",
   "execution_count": 6,
   "metadata": {},
   "outputs": [
    {
     "name": "stdout",
     "output_type": "stream",
     "text": [
      "10.5 µs ± 1 µs per loop (mean ± std. dev. of 7 runs, 100000 loops each)\n"
     ]
    }
   ],
   "source": [
    "np_list = np.arange(10000)\n",
    "%timeit np_list**2"
   ]
  },
  {
   "cell_type": "markdown",
   "metadata": {},
   "source": [
    "numpy数组和普通列表的操作方式也是不同的，numpy通过广播机制作用于每一个内部元素，是一种并行化执行的思想。\n",
    "\n",
    "普通列表则作用于整体。示例如下"
   ]
  },
  {
   "cell_type": "code",
   "execution_count": 7,
   "metadata": {},
   "outputs": [
    {
     "name": "stdout",
     "output_type": "stream",
     "text": [
      "[[1, 2], [1, 2], [1, 2], [1, 2]]\n"
     ]
    }
   ],
   "source": [
    "print([[1,2],[1,2]]*2)"
   ]
  },
  {
   "cell_type": "markdown",
   "metadata": {},
   "source": [
    "numpy数组作用于没一个数据。并行思想"
   ]
  },
  {
   "cell_type": "code",
   "execution_count": 8,
   "metadata": {},
   "outputs": [
    {
     "name": "stdout",
     "output_type": "stream",
     "text": [
      "[[2 4]\n",
      " [2 4]]\n"
     ]
    }
   ],
   "source": [
    "print(np.array([[1,2],[1,2]])*2)"
   ]
  },
  {
   "cell_type": "markdown",
   "metadata": {},
   "source": [
    "### 3.1.2 初始化操作\n",
    "下面是一些常见的初始化np array的方式："
   ]
  },
  {
   "cell_type": "code",
   "execution_count": 9,
   "metadata": {},
   "outputs": [
    {
     "name": "stdout",
     "output_type": "stream",
     "text": [
      "[0. 0. 0. 0. 0. 0. 0. 0. 0. 0.]\n",
      "[[0. 0. 0. 0. 0.]\n",
      " [0. 0. 0. 0. 0.]\n",
      " [0. 0. 0. 0. 0.]]\n"
     ]
    }
   ],
   "source": [
    "#创建默认数据为0的矩阵\n",
    "print(np.zeros(10))#1,19\n",
    "print(np.zeros((3,5)))#3,5"
   ]
  },
  {
   "cell_type": "markdown",
   "metadata": {},
   "source": [
    "创建多维矩阵"
   ]
  },
  {
   "cell_type": "code",
   "execution_count": 10,
   "metadata": {},
   "outputs": [
    {
     "name": "stdout",
     "output_type": "stream",
     "text": [
      "[[[0. 0. 0.]\n",
      "  [0. 0. 0.]\n",
      "  [0. 0. 0.]\n",
      "  [0. 0. 0.]\n",
      "  [0. 0. 0.]]\n",
      "\n",
      " [[0. 0. 0.]\n",
      "  [0. 0. 0.]\n",
      "  [0. 0. 0.]\n",
      "  [0. 0. 0.]\n",
      "  [0. 0. 0.]]\n",
      "\n",
      " [[0. 0. 0.]\n",
      "  [0. 0. 0.]\n",
      "  [0. 0. 0.]\n",
      "  [0. 0. 0.]\n",
      "  [0. 0. 0.]]]\n"
     ]
    }
   ],
   "source": [
    "print(np.zeros((3,5,3)))#3,5,3->3*5像素的rgb图像"
   ]
  },
  {
   "cell_type": "code",
   "execution_count": 11,
   "metadata": {},
   "outputs": [
    {
     "name": "stdout",
     "output_type": "stream",
     "text": [
      "[[1. 1. 1. 1. 1. 1. 1. 1. 1. 1.]\n",
      " [1. 1. 1. 1. 1. 1. 1. 1. 1. 1.]\n",
      " [1. 1. 1. 1. 1. 1. 1. 1. 1. 1.]]\n",
      "(3, 10)\n"
     ]
    }
   ],
   "source": [
    "# 数据全为1的矩阵\n",
    "temp=np.ones((3,10))\n",
    "print(temp)\n",
    "print(temp.shape)"
   ]
  },
  {
   "cell_type": "code",
   "execution_count": 12,
   "metadata": {},
   "outputs": [
    {
     "data": {
      "text/plain": [
       "array([[[1., 1., 1., 1., 1.],\n",
       "        [1., 1., 1., 1., 1.],\n",
       "        [1., 1., 1., 1., 1.]],\n",
       "\n",
       "       [[1., 1., 1., 1., 1.],\n",
       "        [1., 1., 1., 1., 1.],\n",
       "        [1., 1., 1., 1., 1.]]])"
      ]
     },
     "execution_count": 12,
     "metadata": {},
     "output_type": "execute_result"
    }
   ],
   "source": [
    "#数据随机的矩阵（空矩阵，数据是没有意义的）\n",
    "np.empty((2,3,5))"
   ]
  },
  {
   "cell_type": "code",
   "execution_count": 13,
   "metadata": {},
   "outputs": [
    {
     "name": "stdout",
     "output_type": "stream",
     "text": [
      "[1.   2.   3.   4.   5.64 8.66]\n",
      "[1. 1. 1. 1. 1. 1.]\n",
      "[1.   2.   3.   4.   5.64 8.66]\n"
     ]
    }
   ],
   "source": [
    "# 将矩阵数据全部变为1，变化后的矩阵是一个副部，对原有矩阵不影响\n",
    "np_list = np.array([1,2,3,4,5.64,8.66])\n",
    "print(np_list)\n",
    "print(np.ones_like(np_list))\n",
    "print(np_list)"
   ]
  },
  {
   "cell_type": "code",
   "execution_count": 14,
   "metadata": {},
   "outputs": [
    {
     "name": "stdout",
     "output_type": "stream",
     "text": [
      "{1: 10, 2: 20}\n"
     ]
    }
   ],
   "source": [
    "#numpy可以转换字典\n",
    "print(np.array({1:10,2:20}))"
   ]
  },
  {
   "cell_type": "code",
   "execution_count": 15,
   "metadata": {},
   "outputs": [
    {
     "data": {
      "text/plain": [
       "array(['1', '2', '3'], dtype='<U1')"
      ]
     },
     "execution_count": 15,
     "metadata": {},
     "output_type": "execute_result"
    }
   ],
   "source": [
    "#numpy可以转换字符串列表\n",
    "np.array(['1','2','3'])"
   ]
  },
  {
   "cell_type": "code",
   "execution_count": 16,
   "metadata": {},
   "outputs": [
    {
     "data": {
      "text/plain": [
       "array([[1., 0., 0., 0., 0.],\n",
       "       [0., 1., 0., 0., 0.],\n",
       "       [0., 0., 1., 0., 0.],\n",
       "       [0., 0., 0., 1., 0.],\n",
       "       [0., 0., 0., 0., 1.]])"
      ]
     },
     "execution_count": 16,
     "metadata": {},
     "output_type": "execute_result"
    }
   ],
   "source": [
    "#5*5的对角矩阵\n",
    "np.eye(5)"
   ]
  },
  {
   "cell_type": "markdown",
   "metadata": {},
   "source": [
    "### 3.1.3 索引选取和切片选择"
   ]
  },
  {
   "cell_type": "code",
   "execution_count": 17,
   "metadata": {},
   "outputs": [
    {
     "data": {
      "text/plain": [
       "[1, 2, 3]"
      ]
     },
     "execution_count": 17,
     "metadata": {},
     "output_type": "execute_result"
    }
   ],
   "source": [
    "#列表切片\n",
    "n_list=[1,2,3,4,5,6,7,8]\n",
    "n_list[0:3]"
   ]
  },
  {
   "cell_type": "code",
   "execution_count": 18,
   "metadata": {},
   "outputs": [
    {
     "data": {
      "text/plain": [
       "array([1, 2, 3])"
      ]
     },
     "execution_count": 18,
     "metadata": {},
     "output_type": "execute_result"
    }
   ],
   "source": [
    "#用列表切片的方式作用于numpy\n",
    "np_list=np.array(n_list)\n",
    "np_list[0:3]"
   ]
  },
  {
   "cell_type": "code",
   "execution_count": 19,
   "metadata": {},
   "outputs": [
    {
     "data": {
      "text/plain": [
       "array([[3, 4],\n",
       "       [6, 7],\n",
       "       [9, 0]])"
      ]
     },
     "execution_count": 19,
     "metadata": {},
     "output_type": "execute_result"
    }
   ],
   "source": [
    "#多维的numpy矩阵的切片方式（a:b , c:d , e:f）\n",
    "np_list = np.array([[1,2,3,4],[4,5,6,7],[7,8,9,0]])\n",
    "np_list[:,2:]"
   ]
  },
  {
   "cell_type": "code",
   "execution_count": 20,
   "metadata": {},
   "outputs": [
    {
     "data": {
      "text/plain": [
       "0"
      ]
     },
     "execution_count": 20,
     "metadata": {},
     "output_type": "execute_result"
    }
   ],
   "source": [
    "#多维矩阵的索引取值\n",
    "np_list[2,3]\n",
    "# np_list[2][3]"
   ]
  },
  {
   "cell_type": "code",
   "execution_count": 21,
   "metadata": {},
   "outputs": [
    {
     "name": "stdout",
     "output_type": "stream",
     "text": [
      "(200, 504)\n"
     ]
    },
    {
     "data": {
      "text/plain": [
       "array([[ 0.1669,  1.6562,  0.6932, -0.6701,  2.4883],\n",
       "       [-0.6238, -1.7573, -0.2674,  0.7357,  0.5028],\n",
       "       [ 0.3775,  0.099 ,  0.4678, -1.8183, -0.8739],\n",
       "       [ 0.899 , -0.2218,  0.729 , -1.034 , -0.3215],\n",
       "       [-1.0367, -0.4873,  1.5016,  0.9516,  0.2576]])"
      ]
     },
     "execution_count": 21,
     "metadata": {},
     "output_type": "execute_result"
    }
   ],
   "source": [
    "#200支股票\n",
    "stock_cnt=200\n",
    "#504个交易日\n",
    "view_days=504\n",
    "#生成服从正太分布，均值为0，标准差为1的序列\n",
    "stock_day_change=np.random.standard_normal((stock_cnt,view_days))\n",
    "print(stock_day_change.shape)\n",
    "stock_day_change[:5,:5]"
   ]
  },
  {
   "cell_type": "markdown",
   "metadata": {},
   "source": [
    "### 3.1.4 数据转换与规整"
   ]
  },
  {
   "cell_type": "code",
   "execution_count": 22,
   "metadata": {},
   "outputs": [
    {
     "data": {
      "text/plain": [
       "array([[ 0,  1,  0,  0,  2],\n",
       "       [ 0, -1,  0,  0,  0]])"
      ]
     },
     "execution_count": 22,
     "metadata": {},
     "output_type": "execute_result"
    }
   ],
   "source": [
    "#将前2支股票的前5天数据，变为int类型\n",
    "stock_day_change[:2,:5].astype(np.int)"
   ]
  },
  {
   "cell_type": "code",
   "execution_count": 23,
   "metadata": {},
   "outputs": [
    {
     "data": {
      "text/plain": [
       "array([[ 0.167,  1.656,  0.693, -0.67 ,  2.488],\n",
       "       [-0.624, -1.757, -0.267,  0.736,  0.503]])"
      ]
     },
     "execution_count": 23,
     "metadata": {},
     "output_type": "execute_result"
    }
   ],
   "source": [
    "#限定小数点后的位数\n",
    "np.around(stock_day_change[:2,:5],3)"
   ]
  },
  {
   "cell_type": "code",
   "execution_count": 24,
   "metadata": {},
   "outputs": [
    {
     "data": {
      "text/plain": [
       "array([ 1.,  2., nan,  4.,  5.])"
      ]
     },
     "execution_count": 24,
     "metadata": {},
     "output_type": "execute_result"
    }
   ],
   "source": [
    "#numpy中的nan数据，整数类型是不支持的\n",
    "temp=np.array([1.0,2.0,3.0,4.0,5.0])\n",
    "temp[2]=np.nan\n",
    "temp"
   ]
  },
  {
   "cell_type": "code",
   "execution_count": 25,
   "metadata": {},
   "outputs": [
    {
     "data": {
      "text/plain": [
       "array([1., 2., 0., 4., 5.])"
      ]
     },
     "execution_count": 25,
     "metadata": {},
     "output_type": "execute_result"
    }
   ],
   "source": [
    "#将nan数据，变为数字0.0\n",
    "np.nan_to_num(temp)"
   ]
  },
  {
   "cell_type": "markdown",
   "metadata": {},
   "source": [
    "### 3.1.5 逻辑条件进行数据筛选"
   ]
  },
  {
   "cell_type": "code",
   "execution_count": 26,
   "metadata": {},
   "outputs": [
    {
     "data": {
      "text/plain": [
       "array([[ 0.1669,  1.6562,  0.6932, -0.6701,  2.4883],\n",
       "       [-0.6238, -1.7573, -0.2674,  0.7357,  0.5028]])"
      ]
     },
     "execution_count": 26,
     "metadata": {},
     "output_type": "execute_result"
    }
   ],
   "source": [
    "#先看一下原数据\n",
    "stock_day_change[:2,:5]"
   ]
  },
  {
   "cell_type": "code",
   "execution_count": 27,
   "metadata": {},
   "outputs": [
    {
     "data": {
      "text/plain": [
       "array([[ True,  True,  True, False,  True],\n",
       "       [False, False, False,  True,  True]])"
      ]
     },
     "execution_count": 27,
     "metadata": {},
     "output_type": "execute_result"
    }
   ],
   "source": [
    "#对数据进行筛选\n",
    "stock_day_change[:2,:5]>0"
   ]
  },
  {
   "cell_type": "code",
   "execution_count": 28,
   "metadata": {},
   "outputs": [
    {
     "data": {
      "text/plain": [
       "array([[  17.,  166.,   69.,  -67.,  249.],\n",
       "       [ -62., -176.,  -27.,   74.,   50.]])"
      ]
     },
     "execution_count": 28,
     "metadata": {},
     "output_type": "execute_result"
    }
   ],
   "source": [
    "#将数据变为整数\n",
    "np.around(stock_day_change[:2,:5],2)*100"
   ]
  },
  {
   "cell_type": "code",
   "execution_count": 29,
   "metadata": {},
   "outputs": [
    {
     "data": {
      "text/plain": [
       "array([[ 0.    ,  1.6562,  0.6932, -0.6701,  2.4883],\n",
       "       [-0.6238, -1.7573, -0.2674,  0.7357,  0.5028]])"
      ]
     },
     "execution_count": 29,
     "metadata": {},
     "output_type": "execute_result"
    }
   ],
   "source": [
    "#直接修改原数据的方法\n",
    "stock_day_change[0,0]=0\n",
    "stock_day_change[:2,:5]"
   ]
  },
  {
   "cell_type": "code",
   "execution_count": 30,
   "metadata": {},
   "outputs": [
    {
     "data": {
      "text/plain": [
       "array([[ 0.    ,  1.6562,  0.6932, -0.6701,  2.4883],\n",
       "       [-0.6238, -1.7573, -0.2674,  0.7357,  0.5028]])"
      ]
     },
     "execution_count": 30,
     "metadata": {},
     "output_type": "execute_result"
    }
   ],
   "source": [
    "#第一层次引用的拷贝\n",
    "temp=stock_day_change[:2,:5].copy()\n",
    "temp"
   ]
  },
  {
   "cell_type": "code",
   "execution_count": 31,
   "metadata": {},
   "outputs": [
    {
     "data": {
      "text/plain": [
       "array([[100.    ,   1.6562,   0.6932,  -0.6701,   2.4883],\n",
       "       [ -0.6238,  -1.7573,  -0.2674,   0.7357,   0.5028]])"
      ]
     },
     "execution_count": 31,
     "metadata": {},
     "output_type": "execute_result"
    }
   ],
   "source": [
    "#对拷贝数据的修改是不影响原数据的\n",
    "temp[0,0]=100\n",
    "temp"
   ]
  },
  {
   "cell_type": "code",
   "execution_count": 32,
   "metadata": {},
   "outputs": [
    {
     "data": {
      "text/plain": [
       "array([[ 0.    ,  1.6562,  0.6932, -0.6701,  2.4883],\n",
       "       [-0.6238, -1.7573, -0.2674,  0.7357,  0.5028]])"
      ]
     },
     "execution_count": 32,
     "metadata": {},
     "output_type": "execute_result"
    }
   ],
   "source": [
    "stock_day_change[:2,:5]"
   ]
  },
  {
   "cell_type": "code",
   "execution_count": 33,
   "metadata": {},
   "outputs": [
    {
     "data": {
      "text/plain": [
       "array([[ 1.5539,  1.6562,  0.6932, -0.6701,  2.4883],\n",
       "       [-0.6238, -1.7573, -0.2674,  0.7357,  0.5028]])"
      ]
     },
     "execution_count": 33,
     "metadata": {},
     "output_type": "execute_result"
    }
   ],
   "source": [
    "#筛选值为0的数据，将其重新赋值\n",
    "temp=stock_day_change[:2,:5]\n",
    "temp[temp==0]=1.5539\n",
    "temp"
   ]
  },
  {
   "cell_type": "markdown",
   "metadata": {},
   "source": [
    "### 3.1.6 通用序列函数"
   ]
  },
  {
   "cell_type": "code",
   "execution_count": 34,
   "metadata": {},
   "outputs": [
    {
     "name": "stdout",
     "output_type": "stream",
     "text": [
      "[[ True  True  True  True  True]\n",
      " [ True  True  True  True  True]]\n"
     ]
    },
    {
     "data": {
      "text/plain": [
       "True"
      ]
     },
     "execution_count": 34,
     "metadata": {},
     "output_type": "execute_result"
    }
   ],
   "source": [
    "#判断bool类型numpy数组中是否全为true\n",
    "print(stock_day_change[:2,:5]!=0)\n",
    "np.all(stock_day_change[:2,:5]!=0)"
   ]
  },
  {
   "cell_type": "code",
   "execution_count": 35,
   "metadata": {},
   "outputs": [
    {
     "name": "stdout",
     "output_type": "stream",
     "text": [
      "[[ True  True False False  True]\n",
      " [False False False False False]]\n"
     ]
    },
    {
     "data": {
      "text/plain": [
       "True"
      ]
     },
     "execution_count": 35,
     "metadata": {},
     "output_type": "execute_result"
    }
   ],
   "source": [
    "#判断数组中是否存为true的数据\n",
    "print(stock_day_change[:2,:5]>1)\n",
    "np.any(stock_day_change[:2,:5]>1)"
   ]
  },
  {
   "cell_type": "code",
   "execution_count": 36,
   "metadata": {},
   "outputs": [
    {
     "name": "stdout",
     "output_type": "stream",
     "text": [
      "[[ 1.5539  1.6562  0.6932 -0.6701  2.4883]\n",
      " [-0.6238 -1.7573 -0.2674  0.7357  0.5028]]\n",
      "[[-0.3365  1.3618  0.6126  0.4986 -0.8643]\n",
      " [-0.6225 -0.5578 -0.5382  0.0904 -0.3425]]\n"
     ]
    }
   ],
   "source": [
    "print(stock_day_change[:2,:5])\n",
    "print(stock_day_change[:2,10:15])"
   ]
  },
  {
   "cell_type": "code",
   "execution_count": 37,
   "metadata": {},
   "outputs": [
    {
     "name": "stdout",
     "output_type": "stream",
     "text": [
      "[[ 1.5539  1.6562  0.6932  0.4986  2.4883]\n",
      " [-0.6225 -0.5578 -0.2674  0.7357  0.5028]]\n"
     ]
    }
   ],
   "source": [
    "#逐一(位置相同)对比2个数组中的每一个元组，将大的提取出来，\n",
    "# 生成新的数组\n",
    "print(np.maximum(stock_day_change[:2,:5],stock_day_change[:2,10:15]))"
   ]
  },
  {
   "cell_type": "code",
   "execution_count": 38,
   "metadata": {},
   "outputs": [
    {
     "name": "stdout",
     "output_type": "stream",
     "text": [
      "[[-0.3365  1.3618  0.6126 -0.6701 -0.8643]\n",
      " [-0.6238 -1.7573 -0.5382  0.0904 -0.3425]]\n"
     ]
    }
   ],
   "source": [
    "#逐一对比2个数组中的每一个元组，将小的提取出来，生成新的数组\n",
    "print(np.minimum(stock_day_change[:2,:5],stock_day_change[:2,10:15]))"
   ]
  },
  {
   "cell_type": "code",
   "execution_count": 39,
   "metadata": {},
   "outputs": [
    {
     "name": "stdout",
     "output_type": "stream",
     "text": [
      "[[ 1.5539  1.6562  0.6932 -0.6701  2.4883]\n",
      " [-0.6238 -1.7573 -0.2674  0.7357  0.5028]]\n"
     ]
    },
    {
     "data": {
      "text/plain": [
       "array([[ 0.1023, -0.963 , -1.3633,  3.1584],\n",
       "       [-1.1335,  1.4899,  1.0031, -0.2328]])"
      ]
     },
     "execution_count": 39,
     "metadata": {},
     "output_type": "execute_result"
    }
   ],
   "source": [
    "#默认是依次用后面的数据减去前面的数据，将结果保存在新的数组中\n",
    "print(stock_day_change[:2,:5])\n",
    "np.diff(stock_day_change[:2,:5])"
   ]
  },
  {
   "cell_type": "code",
   "execution_count": 40,
   "metadata": {},
   "outputs": [
    {
     "data": {
      "text/plain": [
       "array([[1, 1, 1, 0, 1],\n",
       "       [0, 0, 0, 1, 1]])"
      ]
     },
     "execution_count": 40,
     "metadata": {},
     "output_type": "execute_result"
    }
   ],
   "source": [
    "#where(a>b,1,0),a>b成立，赋值为1否则为0\n",
    "temp = stock_day_change[:2,:5]\n",
    "np.where(temp>0.07,1,0)"
   ]
  },
  {
   "cell_type": "markdown",
   "metadata": {},
   "source": [
    "### 3.1.7  数据本地序列化操作"
   ]
  },
  {
   "cell_type": "code",
   "execution_count": 41,
   "metadata": {},
   "outputs": [],
   "source": [
    "#序列化存储（乱码）\n",
    "np.save('./stock_day_change',stock_day_change)"
   ]
  },
  {
   "cell_type": "code",
   "execution_count": 42,
   "metadata": {},
   "outputs": [
    {
     "data": {
      "text/plain": [
       "(200, 504)"
      ]
     },
     "execution_count": 42,
     "metadata": {},
     "output_type": "execute_result"
    }
   ],
   "source": [
    "ret=np.load('./stock_day_change.npy')\n",
    "ret.shape"
   ]
  },
  {
   "cell_type": "code",
   "execution_count": 43,
   "metadata": {},
   "outputs": [],
   "source": [
    "#文本形式存储（可查看）\n",
    "np.savetxt('./stock_day_change.csv',stock_day_change)"
   ]
  },
  {
   "cell_type": "markdown",
   "metadata": {},
   "source": [
    "## 3.2 统计概念与函数使用"
   ]
  },
  {
   "cell_type": "code",
   "execution_count": 44,
   "metadata": {},
   "outputs": [
    {
     "data": {
      "text/plain": [
       "array([[ 1.5539,  1.6562,  0.6932, -0.6701],\n",
       "       [-0.6238, -1.7573, -0.2674,  0.7357],\n",
       "       [ 0.3775,  0.099 ,  0.4678, -1.8183],\n",
       "       [ 0.899 , -0.2218,  0.729 , -1.034 ]])"
      ]
     },
     "execution_count": 44,
     "metadata": {},
     "output_type": "execute_result"
    }
   ],
   "source": [
    "stock_four = stock_day_change[:4,:4]\n",
    "stock_four"
   ]
  },
  {
   "cell_type": "markdown",
   "metadata": {},
   "source": [
    "### 3.2.1 统计基础函数使用"
   ]
  },
  {
   "cell_type": "code",
   "execution_count": 45,
   "metadata": {},
   "outputs": [
    {
     "data": {
      "text/plain": [
       "array([1.6562, 0.7357, 0.4678, 0.899 ])"
      ]
     },
     "execution_count": 45,
     "metadata": {},
     "output_type": "execute_result"
    }
   ],
   "source": [
    "#找出最大的涨幅\n",
    "#axis=1横向统计数组\n",
    "np.max(stock_four,axis=1)"
   ]
  },
  {
   "cell_type": "code",
   "execution_count": 46,
   "metadata": {},
   "outputs": [
    {
     "data": {
      "text/plain": [
       "array([-0.6701, -1.7573, -1.8183, -1.034 ])"
      ]
     },
     "execution_count": 46,
     "metadata": {},
     "output_type": "execute_result"
    }
   ],
   "source": [
    "#找出最大的跌幅\n",
    "np.min(stock_four,axis=1)"
   ]
  },
  {
   "cell_type": "code",
   "execution_count": 47,
   "metadata": {},
   "outputs": [
    {
     "data": {
      "text/plain": [
       "array([0.9319, 0.891 , 0.9336, 0.7783])"
      ]
     },
     "execution_count": 47,
     "metadata": {},
     "output_type": "execute_result"
    }
   ],
   "source": [
    "#振幅幅度（标准差）\n",
    "np.std(stock_four,axis=1)"
   ]
  },
  {
   "cell_type": "code",
   "execution_count": 48,
   "metadata": {},
   "outputs": [
    {
     "data": {
      "text/plain": [
       "array([ 0.8083, -0.4782, -0.2185,  0.0931])"
      ]
     },
     "execution_count": 48,
     "metadata": {},
     "output_type": "execute_result"
    }
   ],
   "source": [
    "#平均涨跌\n",
    "np.mean(stock_four,axis=1)"
   ]
  },
  {
   "cell_type": "code",
   "execution_count": 49,
   "metadata": {},
   "outputs": [
    {
     "data": {
      "text/plain": [
       "array([1.5539, 1.6562, 0.729 , 0.7357])"
      ]
     },
     "execution_count": 49,
     "metadata": {},
     "output_type": "execute_result"
    }
   ],
   "source": [
    "#纵向统计，每天的最大涨幅\n",
    "np.max(stock_four,axis=0)"
   ]
  },
  {
   "cell_type": "code",
   "execution_count": 50,
   "metadata": {},
   "outputs": [
    {
     "data": {
      "text/plain": [
       "array([0, 0, 3, 1], dtype=int64)"
      ]
     },
     "execution_count": 50,
     "metadata": {},
     "output_type": "execute_result"
    }
   ],
   "source": [
    "#上述统计出了每天涨幅最大的值，但是不知道对应的股票\n",
    "#得出对应最大涨幅数据的序号\n",
    "np.argmax(stock_four,axis=0)"
   ]
  },
  {
   "cell_type": "markdown",
   "metadata": {},
   "source": [
    "### 3.2.2  统计基础概念"
   ]
  },
  {
   "cell_type": "code",
   "execution_count": 71,
   "metadata": {},
   "outputs": [],
   "source": [
    "#创建2个交易者对象\n",
    "a_investor = np.random.normal(loc=100.0,scale=50.0,size=(100,1))\n",
    "b_investor = np.random.normal(loc=100.0,scale=20.0,size=(100,1))"
   ]
  },
  {
   "cell_type": "code",
   "execution_count": 72,
   "metadata": {},
   "outputs": [
    {
     "name": "stdout",
     "output_type": "stream",
     "text": [
      "a交易者，期望: 99.73 方差: 2741.25 标准差: 52.36\n",
      "b交易者，期望: 98.47 方差: 392.43 标准差: 19.81\n"
     ]
    }
   ],
   "source": [
    "#查看生成的交易者信息(期望，方差，标准差)\n",
    "print(\"a交易者，期望:\",round(a_investor.mean(),2),\n",
    "      '方差:',round(a_investor.var(),2),\n",
    "      '标准差:',round(a_investor.std(),2))\n",
    "print(\"b交易者，期望:\",round(b_investor.mean(),2),\n",
    "      '方差:',round(b_investor.var(),2),\n",
    "      '标准差:',round(b_investor.std(),2))"
   ]
  },
  {
   "cell_type": "code",
   "execution_count": 77,
   "metadata": {},
   "outputs": [
    {
     "data": {
      "text/plain": [
       "<matplotlib.lines.Line2D at 0x25b10539198>"
      ]
     },
     "execution_count": 77,
     "metadata": {},
     "output_type": "execute_result"
    },
    {
     "data": {
      "image/png": "[encoded data removed]",
      "text/plain": [
       "<Figure size 720x576 with 1 Axes>"
      ]
     },
     "metadata": {
      "needs_background": "light"
     },
     "output_type": "display_data"
    }
   ],
   "source": [
    "#a交易者的图像\n",
    "a_mean = a_investor.mean()\n",
    "a_std = a_investor.std()\n",
    "plt.plot(a_investor)\n",
    "plt.axhline(a_mean+a_std,color='r')\n",
    "plt.axhline(a_mean,color='g')\n",
    "plt.axhline(a_mean-a_std,color='y')"
   ]
  },
  {
   "cell_type": "code",
   "execution_count": 78,
   "metadata": {},
   "outputs": [
    {
     "data": {
      "text/plain": [
       "<matplotlib.lines.Line2D at 0x25b10692cf8>"
      ]
     },
     "execution_count": 78,
     "metadata": {},
     "output_type": "execute_result"
    },
    {
     "data": {
      "image/png": "[encoded data removed]",
      "text/plain": [
       "<Figure size 720x576 with 1 Axes>"
      ]
     },
     "metadata": {
      "needs_background": "light"
     },
     "output_type": "display_data"
    }
   ],
   "source": [
    "#b交易者的图像\n",
    "b_mean = b_investor.mean()\n",
    "b_std = b_investor.std()\n",
    "plt.plot(b_investor)\n",
    "plt.axhline(b_mean+b_std,color='r')\n",
    "plt.axhline(b_mean,color='g')\n",
    "plt.axhline(b_mean-b_std,color='y')"
   ]
  },
  {
   "cell_type": "markdown",
   "metadata": {},
   "source": [
    "## 3.3  正态分布\n",
    "\n",
    "### 3.3.1 正态分布基础概念"
   ]
  },
  {
   "cell_type": "code",
   "execution_count": 80,
   "metadata": {},
   "outputs": [
    {
     "data": {
      "text/plain": [
       "(200, 504)"
      ]
     },
     "execution_count": 80,
     "metadata": {},
     "output_type": "execute_result"
    }
   ],
   "source": [
    "stock_day_change.shape"
   ]
  },
  {
   "cell_type": "code",
   "execution_count": 85,
   "metadata": {},
   "outputs": [
    {
     "name": "stdout",
     "output_type": "stream",
     "text": [
      "期望: 0.042835642591999866 标准差: 1.0502243445264263\n"
     ]
    },
    {
     "name": "stderr",
     "output_type": "stream",
     "text": [
      "d:\\python\\tools\\python37\\lib\\site-packages\\matplotlib\\axes\\_axes.py:6521: MatplotlibDeprecationWarning: \n",
      "The 'normed' kwarg was deprecated in Matplotlib 2.1 and will be removed in 3.1. Use 'density' instead.\n",
      "  alternative=\"'density'\", removal=\"3.1\")\n"
     ]
    },
    {
     "data": {
      "text/plain": [
       "[<matplotlib.lines.Line2D at 0x25b130d5160>]"
      ]
     },
     "execution_count": 85,
     "metadata": {},
     "output_type": "execute_result"
    },
    {
     "data": {
      "image/png": "[encoded data removed]",
      "text/plain": [
       "<Figure size 720x576 with 1 Axes>"
      ]
     },
     "metadata": {
      "needs_background": "light"
     },
     "output_type": "display_data"
    }
   ],
   "source": [
    "import scipy.stats as scs\n",
    "s_mean=stock_day_change[2].mean()\n",
    "s_std=stock_day_change[2].std()\n",
    "print('期望:',s_mean,'标准差:',s_std)\n",
    "plt.hist(stock_day_change[2],bins=50,normed=True)\n",
    "fit_linspace=np.linspace(stock_day_change[2].min(),\n",
    "                         stock_day_change[2].max())\n",
    "pdf=scs.norm(s_mean,s_std).pdf(fit_linspace)\n",
    "plt.plot(fit_linspace,pdf,lw=2,c='r')"
   ]
  },
  {
   "cell_type": "code",
   "execution_count": 87,
   "metadata": {},
   "outputs": [
    {
     "data": {
      "text/plain": [
       "(50,)"
      ]
     },
     "execution_count": 87,
     "metadata": {},
     "output_type": "execute_result"
    }
   ],
   "source": [
    "pdf.shape"
   ]
  },
  {
   "cell_type": "markdown",
   "metadata": {},
   "source": [
    "### 3.3.2  实例1：正态分布买入策略"
   ]
  },
  {
   "cell_type": "code",
   "execution_count": 90,
   "metadata": {},
   "outputs": [
    {
     "data": {
      "text/plain": [
       "(200, 454)"
      ]
     },
     "execution_count": 90,
     "metadata": {},
     "output_type": "execute_result"
    }
   ],
   "source": [
    "#截取200只股票前454天的数据\n",
    "keep_day=50\n",
    "s_test=stock_day_change[:stock_cnt,:view_days-keep_day]\n",
    "s_test.shape"
   ]
  },
  {
   "cell_type": "code",
   "execution_count": 95,
   "metadata": {},
   "outputs": [
    {
     "data": {
      "text/plain": [
       "array([-72.3101, -65.9206, -58.1446])"
      ]
     },
     "execution_count": 95,
     "metadata": {},
     "output_type": "execute_result"
    }
   ],
   "source": [
    "#----找出跌幅最大的3只股票----\n",
    "#对200只股票的浮动进行求和统计(横向)\n",
    "change_sum=np.sum(s_test,axis=1)\n",
    "# change_sum.shape\n",
    "#对change_sum进行排序（默认都是从小到大）\n",
    "sort_change_sum=np.sort(change_sum)\n",
    "#切片出前3个数据，就是跌幅最大的数据\n",
    "sort_change_sum[:3]"
   ]
  },
  {
   "cell_type": "code",
   "execution_count": 98,
   "metadata": {},
   "outputs": [
    {
     "data": {
      "text/plain": [
       "array([62, 97, 95], dtype=int64)"
      ]
     },
     "execution_count": 98,
     "metadata": {},
     "output_type": "execute_result"
    }
   ],
   "source": [
    "#找出这3只股票对应的序号\n",
    "stock_lower_ind=np.argsort(change_sum)[:3]\n",
    "stock_lower_ind"
   ]
  },
  {
   "cell_type": "code",
   "execution_count": 110,
   "metadata": {},
   "outputs": [
    {
     "name": "stdout",
     "output_type": "stream",
     "text": [
      "买入的股票序号: [62 97 95] 买入50天后的总盈亏:-7.17%\n"
     ]
    },
    {
     "data": {
      "image/png": "[encoded data removed]",
      "text/plain": [
       "<Figure size 1152x360 with 2 Axes>"
      ]
     },
     "metadata": {
      "needs_background": "light"
     },
     "output_type": "display_data"
    },
    {
     "data": {
      "image/png": "[encoded data removed]",
      "text/plain": [
       "<Figure size 1152x360 with 2 Axes>"
      ]
     },
     "metadata": {
      "needs_background": "light"
     },
     "output_type": "display_data"
    },
    {
     "data": {
      "image/png": "[encoded data removed]",
      "text/plain": [
       "<Figure size 1152x360 with 2 Axes>"
      ]
     },
     "metadata": {
      "needs_background": "light"
     },
     "output_type": "display_data"
    }
   ],
   "source": [
    "#定义函数，在454天买入跌幅最大的3只股票，查看买入前和买入后的走势\n",
    "def show_buy_lower(stock_ind):\n",
    "    _,axs=plt.subplots(nrows=1,ncols=2,figsize=(16,5))\n",
    "    #买入之前的走势\n",
    "    axs[0].plot(np.arange(0,view_days-keep_day),\n",
    "               s_test[stock_ind].cumsum())\n",
    "    #买入之后的走势\n",
    "    cs_buy=stock_day_change[stock_ind][view_days-keep_day:].cumsum()\n",
    "    axs[1].plot(np.arange(view_days-keep_day,view_days),cs_buy)\n",
    "    return  cs_buy[-1]\n",
    "profit=0\n",
    "for stock_ind in stock_lower_ind:\n",
    "    profit += show_buy_lower(stock_ind)\n",
    "print('买入的股票序号:',stock_lower_ind,\n",
    "      '买入50天后的总盈亏:%s'%str(round(profit,2))+'%')"
   ]
  },
  {
   "cell_type": "markdown",
   "metadata": {},
   "source": [
    "## 3.4 伯努利分布\n",
    "\n",
    "### 3.4.1  伯努利分布概念"
   ]
  },
  {
   "cell_type": "markdown",
   "metadata": {},
   "source": [
    "### 3.4.2 实例2：如何在交易中获取优势"
   ]
  },
  {
   "cell_type": "code",
   "execution_count": null,
   "metadata": {},
   "outputs": [],
   "source": []
  },
  {
   "cell_type": "code",
   "execution_count": null,
   "metadata": {},
   "outputs": [],
   "source": []
  },
  {
   "cell_type": "code",
   "execution_count": null,
   "metadata": {},
   "outputs": [],
   "source": []
  },
  {
   "cell_type": "code",
   "execution_count": null,
   "metadata": {},
   "outputs": [],
   "source": []
  },
  {
   "cell_type": "code",
   "execution_count": null,
   "metadata": {},
   "outputs": [],
   "source": []
  },
  {
   "cell_type": "code",
   "execution_count": null,
   "metadata": {},
   "outputs": [],
   "source": []
  },
  {
   "cell_type": "code",
   "execution_count": null,
   "metadata": {},
   "outputs": [],
   "source": []
  },
  {
   "cell_type": "code",
   "execution_count": null,
   "metadata": {},
   "outputs": [],
   "source": []
  },
  {
   "cell_type": "code",
   "execution_count": null,
   "metadata": {
    "collapsed": true
   },
   "outputs": [],
   "source": []
  }
 ],
 "metadata": {
  "anaconda-cloud": {},
  "kernelspec": {
   "display_name": "Python 3",
   "language": "python",
   "name": "python3"
  },
  "language_info": {
   "codemirror_mode": {
    "name": "ipython",
    "version": 3
   },
   "file_extension": ".py",
   "mimetype": "text/x-python",
   "name": "python",
   "nbconvert_exporter": "python",
   "pygments_lexer": "ipython3",
   "version": "3.7.3"
  }
 },
 "nbformat": 4,
 "nbformat_minor": 1
}
